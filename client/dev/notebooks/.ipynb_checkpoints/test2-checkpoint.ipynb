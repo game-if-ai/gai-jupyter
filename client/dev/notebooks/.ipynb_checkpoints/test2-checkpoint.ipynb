{
 "cells": [
  {
   "attachments": {},
   "cell_type": "markdown",
   "metadata": {},
   "source": [
    "# Setup\n",
    "### Runs all initialization"
   ]
  },
  {
   "cell_type": "code",
   "execution_count": 1,
   "metadata": {
    "gai_cell_type": "INPUT",
    "contenteditable": false,
    "deletable": false,
    "editable": false,
    "id": "321",
    "tags": [
     "highlight"
    ]
   },
   "source": [
    "# This cell should:",
    "# Be uneditable",
    "# Have grey background",
    "# Autorun(?)",
    "print(\"Performing all imports and variable initializations.\")\n"
   ]
  },
  {
   "attachments": {},
   "cell_type": "markdown",
   "metadata": {},
   "source": [
    "## Evaluation"
   ]
  },
  {
   "cell_type": "code",
   "execution_count": 6,
   "metadata": {
    "gai_cell_type": "EVALUATION"
   },
   "source": [
    "# Classifier code goes here:\n"
   ]
  }
 ],
 "metadata": {
  "kernelspec": {
   "display_name": "Python 3 (ipykernel)",
   "language": "python",
   "name": "python3"
  },
  "language_info": {
   "codemirror_mode": {
    "name": "ipython",
    "version": 3
   },
   "file_extension": ".py",
   "mimetype": "text/x-python",
   "name": "python",
   "nbconvert_exporter": "python",
   "pygments_lexer": "ipython3",
   "version": "3.10.7"
  },
  "vscode": {
   "interpreter": {
    "hash": "4b655b960f58f067faa17677b2a61dad4dd7349f9b1d9b48ec4c1e58710c42f6"
   }
  }
 },
 "nbformat": 4,
 "nbformat_minor": 4
}
