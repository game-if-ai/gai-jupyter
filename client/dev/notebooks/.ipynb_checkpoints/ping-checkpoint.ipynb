{
 "cells": [
  {
   "cell_type": "code",
   "execution_count": null,
   "metadata": {},
   "outputs": [],
   "source": []
  }
 ],
 "metadata": {
  "kernelspec": {
   "display_name": "Python 3",
   "language": "python",
   "name": "python3"
  },
  "language_info": {
   "name": "python",
   "version": "3.10.7"
  },
  "vscode": {
   "interpreter": {
    "hash": "4b655b960f58f067faa17677b2a61dad4dd7349f9b1d9b48ec4c1e58710c42f6"
   }
  }
 },
 "nbformat": 4,
 "nbformat_minor": 4
}
