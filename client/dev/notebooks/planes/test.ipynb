{
 "cells": [
  {
   "cell_type": "code",
   "execution_count": null,
   "metadata": {
    "contenteditable": false,
    "deletable": false,
    "editable": false,
    "hidden": true
   },
   "outputs": [],
   "source": [
    "%load_ext pycodestyle_magic"
   ]
  },
  {
   "cell_type": "code",
   "execution_count": null,
   "metadata": {
    "contenteditable": false,
    "deletable": false,
    "editable": false,
    "gai_cell_type": "SETUP",
    "gai_title": "Setup",
    "tags": [
     "highlight"
    ]
   },
   "outputs": [],
   "source": [
    "### This cell is uneditable ###\n",
    "import pandas as pd\n",
    "import nltk, json, random\n",
    "from IPython.display import JSON\n",
    "from sklearn.model_selection import train_test_split\n",
    "\n",
    "nltk.download('wordnet', quiet=True)\n",
    "nltk.download(\"stopwords\", quiet=True)\n",
    "\n",
    "# load data:\n",
    "vehicles = [\"car\", \"plane\", \"tank\"]\n",
    "with open(\"planes/data.json\") as IN:\n",
    "    data = pd.DataFrame(json.load(IN))\n",
    "\n",
    "from sklearn.model_selection import train_test_split\n",
    "x_train, x_test, y_train, y_test = train_test_split(data['description'],\n",
    "                                                    data['type'],\n",
    "                                                    stratify=data['type'],\n",
    "                                                    random_state=21)\n",
    "\n",
    "JSON([len(x_train) + len(y_train), len(x_test) + len(y_test)])"
   ]
  },
  {
   "cell_type": "code",
   "execution_count": null,
   "metadata": {
    "check_lint": true,
    "deletable": false,
    "gai_cell_type": "MODEL",
    "gai_title": "Model"
   },
   "outputs": [],
   "source": [
    "from sklearn.dummy import DummyClassifier\n",
    "from sklearn.feature_extraction.text import CountVectorizer\n",
    "\n",
    "# Preprocess First\n",
    "def preprocess(docs):\n",
    "    # Apply some function to each document/review in the pandas series\n",
    "    # NOTE: Every x document is a sentence, with multiple words\n",
    "    return docs.apply(lambda x: x)\n",
    "\n",
    "x_train = preprocess(x_train)\n",
    "y_train = preprocess(y_train)\n",
    "\n",
    "# Pick Vectorizer\n",
    "vectorizer = CountVectorizer(binary=True)\n",
    "x_train_features = vectorizer.fit_transform(x_train)\n",
    "x_test_features = vectorizer.transform(x_test)\n",
    "def train(classifier, x, y):\n",
    "    classifier.fit(x, y)\n",
    "\n",
    "# Pick Classifier\n",
    "classifier = DummyClassifier(strategy=\"uniform\")\n",
    "\n",
    "# Train\n",
    "train(classifier,x_train_features, y_train)"
   ]
  },
  {
   "cell_type": "code",
   "execution_count": null,
   "metadata": {
    "contenteditable": false,
    "deletable": false,
    "editable": false,
    "gai_cell_type": "VALIDATION",
    "gai_title": "Validation",
    "tags": [
     "highlight"
    ]
   },
   "outputs": [],
   "source": [
    "### This cell is uneditable ###\n",
    "from sklearn.metrics import f1_score\n",
    "from IPython.display import JSON\n",
    "\n",
    "y_pred_test = classifier.predict(x_test_features)\n",
    "y_proba = classifier.predict_proba(x_test_features)\n",
    "\n",
    "x_test_list = x_test.to_list()\n",
    "y_test_list = y_test.to_list()\n",
    "experiment_size = y_pred_test.size // 5\n",
    "experiment = []\n",
    "y_true = []\n",
    "y_pred = []\n",
    "\n",
    "for i in range(y_pred_test.size):\n",
    "    y_true.append(y_test_list[i])\n",
    "    y_pred.append(y_pred_test[i])\n",
    "    experiment.append({\n",
    "        \"inputText\": x_test_list[i],\n",
    "        \"realLabel\": y_test_list[i],\n",
    "        \"classifierLabel\": y_pred_test[i],\n",
    "        \"confidence\": max(y_proba[i])\n",
    "    })\n",
    "\n",
    "JSON([experiment])"
   ]
  }
 ],
 "metadata": {
  "kernelspec": {
   "display_name": "Python 3 (ipykernel)",
   "language": "python",
   "name": "python3"
  },
  "language_info": {
   "codemirror_mode": {
    "name": "ipython",
    "version": 3
   },
   "file_extension": ".py",
   "mimetype": "text/x-python",
   "name": "python",
   "nbconvert_exporter": "python",
   "pygments_lexer": "ipython3",
   "version": "3.10.7"
  },
  "notebook_id": "123",
  "vscode": {
   "interpreter": {
    "hash": "4b655b960f58f067faa17677b2a61dad4dd7349f9b1d9b48ec4c1e58710c42f6"
   }
  }
 },
 "nbformat": 4,
 "nbformat_minor": 4
}