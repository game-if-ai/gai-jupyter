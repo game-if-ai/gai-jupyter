{
 "cells": [
  {
   "cell_type": "code",
   "execution_count": null,
   "metadata": {
    "contenteditable": false,
    "deletable": false,
    "editable": false,
    "hidden": true
   },
   "outputs": [],
   "source": [
    "%load_ext pycodestyle_magic"
   ]
  },
  {
   "cell_type": "code",
   "execution_count": null,
   "metadata": {
    "contenteditable": false,
    "editable": false,
    "deletable": false,
    "gai_cell_type": "SETUP",
    "gai_title": "Setup",
    "tags": [
     "highlight"
    ]
   },
   "outputs": [],
   "source": [
    "### This cell is uneditable ###\n",
    "import matplotlib.pyplot as plt\n",
    "import json\n",
    "from IPython.display import JSON\n",
    "\n",
    "# Build a network with\n",
    "#  convolution layer 1 having \"filters1\" filters\n",
    "#  convolution layer 2 having \"filters2\" filters\n",
    "#  convolution layer 3 having \"filters3\" filters or None to remove\n",
    "#  fully connected layer of neurons with \"layer4\" neurons\n",
    "#  fully connected layer of neurons with \"layer5\" neurons\n",
    "#\n",
    "# PICK ONE\n",
    "#setting_name = \"large\"\n",
    "#         \"filters1\": 50\n",
    "#         \"filters2\": 75\n",
    "#         \"filters3\": 100\n",
    "#         \"layer4\": 500\n",
    "#         \"layer5\": 250\n",
    "#setting_name = \"medium\"\n",
    "#         \"filters1\": 25\n",
    "#         \"filters2\": 50\n",
    "#         \"filters3\": 75\n",
    "#         \"layer4\": 250\n",
    "#         \"layer5\": 100\n",
    "#setting_name = \"small\"\n",
    "#         \"filters1\": 25\n",
    "#         \"filters2\": 25\n",
    "#         \"filters3\": 25\n",
    "#         \"layer4\": 125         \n",
    "#         \"layer5\": 50\n",
    "#setting_name = \"tiny\"\n",
    "#         \"filters1\": 25\n",
    "#         \"filters2\": 25\n",
    "#         \"filters3\": None\n",
    "#         \"layer4\": 75\n",
    "#         \"layer5\": 25\n",
    "\n",
    "labels = [\"plane\", \"car\", \"tank\"]\n",
    "JSON([0, 0])"
   ]
  },
  {
   "cell_type": "code",
   "execution_count": null,
   "metadata": {
    "check_lint": true,
    "deletable": false,
    "gai_cell_type": "MODEL",
    "gai_title": "Model"
   },
   "outputs": [],
   "source": [
    "# possible values: tiny, small, medium or large\n",
    "setting_name = \"tiny\"\n",
    "# possible values: 30 or 60\n",
    "training_epochs = 30"
   ]
  },
  {
   "cell_type": "code",
   "execution_count": null,
   "metadata": {
    "contenteditable": false,
    "editable": false,
    "deletable": false,
    "gai_cell_type": "VALIDATION",
    "gai_title": "Validation",
    "tags": [
     "highlight"
    ]
   },
   "outputs": [],
   "source": [
    "### This cell is uneditable ###\n",
    "import numpy as np\n",
    "import random\n",
    "\n",
    "if training_epochs != 30 and training_epochs != 60:\n",
    "    raise Exception(\"training_epochs must be 30 or 60\")\n",
    "if setting_name not in [\"tiny\", \"small\", \"medium\", \"large\"]:\n",
    "    raise Exception(\"invalid valid for settings_name\")\n",
    "\n",
    "dir = \"planes\"\n",
    "prefix = dir + \"/Epoch\" + str(training_epochs) + \"_\" + setting_name + \"_\"\n",
    "# LOAD ACCURACY DATA and PREDICTIONS\n",
    "with open(prefix + \"accuracy.json\") as IN:\n",
    "    plot_dict = json.load(IN)\n",
    "\n",
    "with open(prefix + \"predictions.json\") as IN:\n",
    "    predictions_dict = json.load(IN)\n",
    "    y_pred_test = predictions_dict[\"y_pred_test\"]\n",
    "    y_proba = predictions_dict[\"y_proba\"]\n",
    "\n",
    "experiment = []\n",
    "for i in range(len(y_pred_test)):\n",
    "    experiment.append({\n",
    "        \"realLabel\": labels[random.randint(0,2)],\n",
    "        \"classifierLabel\": labels[y_pred_test[i]],\n",
    "        \"confidence\": y_proba[i]\n",
    "    })\n",
    "\n",
    "JSON(np.array_split(experiment, 5))"
   ]
  }
 ],
 "metadata": {
  "kernelspec": {
   "display_name": "Python 3 (ipykernel)",
   "language": "python",
   "name": "python3"
  },
  "language_info": {
   "codemirror_mode": {
    "name": "ipython",
    "version": 3
   },
   "file_extension": ".py",
   "mimetype": "text/x-python",
   "name": "python",
   "nbconvert_exporter": "python",
   "pygments_lexer": "ipython3",
   "version": "3.10.7"
  },
  "notebook_id": "123",
  "vscode": {
   "interpreter": {
    "hash": "4b655b960f58f067faa17677b2a61dad4dd7349f9b1d9b48ec4c1e58710c42f6"
   }
  }
 },
 "nbformat": 4,
 "nbformat_minor": 4
}