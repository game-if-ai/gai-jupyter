{
 "cells": [
  {
   "attachments": {},
   "cell_type": "markdown",
   "metadata": {},
   "source": [
    "# Setup\n",
    "### Runs all initialization"
   ]
  },
  {
   "cell_type": "code",
   "execution_count": 2,
   "metadata": {
    "contenteditable": false,
    "deletable": false,
    "editable": false,
    "id": "321",
    "tags": [
     "highlight"
    ]
   },
   "outputs": [
    {
     "name": "stdout",
     "output_type": "stream",
     "text": [
      "Performing all imports and variable initializations.\n"
     ]
    }
   ],
   "source": [
    "# This cell should:\n",
    "# Be uneditable\n",
    "# Have grey background\n",
    "# Autorun(?)\n",
    "\n",
    "print(\"Performing all imports and variable initializations.\")\n",
    "x=2"
   ]
  },
  {
   "attachments": {},
   "cell_type": "markdown",
   "metadata": {},
   "source": [
    "## Editable Section"
   ]
  },
  {
   "cell_type": "code",
   "execution_count": 7,
   "metadata": {},
   "outputs": [
    {
     "name": "stdout",
     "output_type": "stream",
     "text": [
      "user can edit this section\n"
     ]
    }
   ],
   "source": [
    "print(\"user can edit this section\")"
   ]
  },
  {
   "attachments": {},
   "cell_type": "markdown",
   "metadata": {},
   "source": [
    "## Evaluation"
   ]
  },
  {
   "attachments": {},
   "cell_type": "markdown",
   "metadata": {
    "jp-MarkdownHeadingCollapsed": true
   },
   "source": [
    "#### Mock classifier response function"
   ]
  },
  {
   "cell_type": "code",
   "execution_count": 1,
   "metadata": {
    "contenteditable": false,
    "deletable": false,
    "editable": false
   },
   "outputs": [],
   "source": [
    "import json, random\n",
    "fruit_traits = [\"fruit\",\"color\"]\n",
    "fruits =  [\n",
    "  {\n",
    "    \"name\": \"apple\",\n",
    "    \"sprite\": \"apple\",\n",
    "    \"description\": \"A round and red apple.\",\n",
    "    \"traits\": {\n",
    "      \"fruit\": \"apple\",\n",
    "      \"color\": \"red\",\n",
    "    },\n",
    "  },\n",
    "  {\n",
    "    \"name\": \"perfect apple\",\n",
    "    \"sprite\": \"apple2\",\n",
    "    \"description\":\n",
    "      \"A crisp and delicious, round and red apple. Very juicy and sweet.\",\n",
    "    \"traits\": {\n",
    "      \"fruit\": \"apple\",\n",
    "      \"color\": \"red\",\n",
    "    },\n",
    "  },\n",
    "  {\n",
    "    \"name\": \"cherry\",\n",
    "    \"sprite\": \"cherry\",\n",
    "    \"description\": \"A pair of red cherries.\",\n",
    "    \"traits\": {\n",
    "      \"fruit\": \"cherry\",\n",
    "      \"color\": \"red\",\n",
    "    },\n",
    "  },\n",
    "  {\n",
    "    \"name\": \"perfect cherry\",\n",
    "    \"sprite\": \"cherry2\",\n",
    "    \"description\": \"A pair of sweet, fresh and red cherries.\",\n",
    "    \"traits\": {\n",
    "      \"fruit\": \"cherry\",\n",
    "      \"color\": \"red\",\n",
    "    },\n",
    "  },\n",
    "  {\n",
    "    \"name\": \"coconut\",\n",
    "    \"sprite\": \"coconut\",\n",
    "    \"description\": \"A young coconut. Round and green.\",\n",
    "    \"traits\": {\n",
    "      \"fruit\": \"coconut\",\n",
    "      \"color\": \"green\",\n",
    "    },\n",
    "  },\n",
    "  {\n",
    "    \"name\": \"grape\",\n",
    "    \"sprite\": \"grape\",\n",
    "    \"description\": \"A bunch of purple grapes. A little sour.\",\n",
    "    \"traits\": {\n",
    "      \"fruit\": \"grape\",\n",
    "      \"color\": \"purple\",\n",
    "    },\n",
    "  },\n",
    "  {\n",
    "    \"name\": \"perfect grape\",\n",
    "    \"sprite\": \"grape2\",\n",
    "    \"description\": \"A bunch of red grapes. Perfectly sweet.\",\n",
    "    \"traits\": {\n",
    "      \"fruit\": \"grape\",\n",
    "      \"color\": \"red\",\n",
    "    },\n",
    "  },\n",
    "  {\n",
    "    \"name\": \"lemon\",\n",
    "    \"sprite\": \"lemon\",\n",
    "    \"description\":\n",
    "      \"An oblong, green lemon. A little ripe so it looks like a lime. Very sour.\",\n",
    "    \"traits\": {\n",
    "      \"fruit\": \"lemon\",\n",
    "      \"color\": \"green\",\n",
    "    },\n",
    "  },\n",
    "  {\n",
    "    \"name\": \"perfect lemon\",\n",
    "    \"sprite\": \"lemon2\",\n",
    "    \"description\": \"An oblong, yellow lemon. Would make some great lemonade.\",\n",
    "    \"traits\": {\n",
    "      \"fruit\": \"lemon\",\n",
    "      \"color\": \"green\",\n",
    "    },\n",
    "  },\n",
    "  {\n",
    "    \"name\": \"lychee\",\n",
    "    \"sprite\": \"lychee\",\n",
    "    \"description\": \"A bunch of lychee. A little too ripe, so they're yellow\",\n",
    "    \"traits\": {\n",
    "      \"fruit\": \"lychee\",\n",
    "      \"color\": \"yellow\",\n",
    "    },\n",
    "  },\n",
    "  {\n",
    "    \"name\": \"perfect lychee\",\n",
    "    \"sprite\": \"lychee2\",\n",
    "    \"description\": \"A bunch of lychee. Sweet, fresh, and red.\",\n",
    "    \"traits\": {\n",
    "      \"fruit\": \"lychee\",\n",
    "      \"color\": \"red\",\n",
    "    },\n",
    "  },\n",
    "  {\n",
    "    \"name\": \"orange\",\n",
    "    \"sprite\": \"orange\",\n",
    "    \"description\": \"A round orange. Very orange.\",\n",
    "    \"traits\": {\n",
    "      \"fruit\": \"orange\",\n",
    "      \"color\": \"orange\",\n",
    "    },\n",
    "  },\n",
    "  {\n",
    "    \"name\": \"perfect orange\",\n",
    "    \"sprite\": \"orange2\",\n",
    "    \"description\":\n",
    "      \"A round and orange orange. Larger and sweeter than normal oranges.\",\n",
    "    \"traits\": {\n",
    "      \"fruit\": \"orange\",\n",
    "      \"color\": \"orange\",\n",
    "    },\n",
    "  },\n",
    "  {\n",
    "    \"name\": \"peach\",\n",
    "    \"sprite\": \"peach\",\n",
    "    \"description\": \"A sweet, round, peach. Very pink.\",\n",
    "    \"traits\": {\n",
    "      \"fruit\": \"peach\",\n",
    "      \"color\": \"pink\",\n",
    "    },\n",
    "  },\n",
    "  {\n",
    "    \"name\": \"perfect peach\",\n",
    "    \"sprite\": \"peach2\",\n",
    "    \"description\": \"A sweet, round, peach. This peach is gold for some reason!\",\n",
    "    \"traits\": {\n",
    "      \"fruit\": \"peach\",\n",
    "      \"color\": \"yellow\",\n",
    "    },\n",
    "  },\n",
    "  {\n",
    "    \"name\": \"pear\",\n",
    "    \"sprite\": \"pear\",\n",
    "    \"description\": \"An oblong, green pear.\",\n",
    "    \"traits\": {\n",
    "      \"fruit\": \"pear\",\n",
    "      \"color\": \"green\",\n",
    "    },\n",
    "  },\n",
    "  {\n",
    "    \"name\": \"perfect pear\",\n",
    "    \"sprite\": \"pear2\",\n",
    "    \"description\": \"An perfect golden pear. Smells great and tastes great too.\",\n",
    "    \"traits\": {\n",
    "      \"fruit\": \"pear\",\n",
    "      \"color\": \"yellow\",\n",
    "    },\n",
    "  },\n",
    "];\n",
    "def random_fruit_classifier_output():\n",
    "    data = []\n",
    "    for label in fruit_traits:\n",
    "        for fruit in fruits:\n",
    "            correctAnswer = random.randint(1,100) < 85\n",
    "            data.append({\n",
    "                \"inputText\": fruit[\"description\"],\n",
    "                \"label\": label,\n",
    "                \"realLabel\": fruit[\"traits\"][label],\n",
    "                \"classifierLabel\": fruit[\"traits\"][label] if correctAnswer else fruits[random.randint(0, len(fruits)-1)][\"traits\"][label]\n",
    "            })\n",
    "    return data"
   ]
  },
  {
   "attachments": {},
   "cell_type": "markdown",
   "metadata": {},
   "source": [
    "#### Evaluation Function"
   ]
  },
  {
   "cell_type": "code",
   "execution_count": 4,
   "metadata": {
    "contenteditable": false,
    "deletable": false,
    "editable": false,
    "gai_cell_type": "EVALUATION"
   },
   "outputs": [],
   "source": [
    "five_classifier_outputs = [\n",
    "    random_fruit_classifier_output(),\n",
    "    random_fruit_classifier_output(),\n",
    "    random_fruit_classifier_output(),\n",
    "    random_fruit_classifier_output(),\n",
    "    random_fruit_classifier_output()\n",
    "]\n",
    "print(json.dumps(five_classifier_outputs, indent=2))"
   ]
  }
 ],
 "metadata": {
  "kernelspec": {
   "display_name": "Python 3 (ipykernel)",
   "language": "python",
   "name": "python3"
  },
  "language_info": {
   "codemirror_mode": {
    "name": "ipython",
    "version": 3
   },
   "file_extension": ".py",
   "mimetype": "text/x-python",
   "name": "python",
   "nbconvert_exporter": "python",
   "pygments_lexer": "ipython3",
   "version": "3.10.7"
  },
  "vscode": {
   "interpreter": {
    "hash": "4b655b960f58f067faa17677b2a61dad4dd7349f9b1d9b48ec4c1e58710c42f6"
   }
  }
 },
 "nbformat": 4,
 "nbformat_minor": 4
}
