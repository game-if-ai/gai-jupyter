{
 "cells": [
  {
   "attachments": {},
   "cell_type": "markdown",
   "metadata": {},
   "source": [
    "# Setup\n",
    "### Runs all initialization"
   ]
  },
  {
   "cell_type": "code",
   "execution_count": 2,
   "metadata": {
    "contenteditable": false,
    "deletable": false,
    "editable": false,
    "id": "321",
    "tags": [
     "highlight"
    ]
   },
   "outputs": [
    {
     "name": "stdout",
     "output_type": "stream",
     "text": [
      "Performing all imports and variable initializations.\n"
     ]
    }
   ],
   "source": [
    "# This cell should:\n",
    "# Be uneditable\n",
    "# Have grey background\n",
    "# Autorun(?)\n",
    "\n",
    "print(\"Performing all imports and variable initializations.\")\n",
    "x=2"
   ]
  },
  {
   "attachments": {},
   "cell_type": "markdown",
   "metadata": {},
   "source": [
    "## Editable Section"
   ]
  },
  {
   "cell_type": "code",
   "execution_count": 7,
   "metadata": {},
   "outputs": [
    {
     "name": "stdout",
     "output_type": "stream",
     "text": [
      "user can edit this section\n"
     ]
    }
   ],
   "source": [
    "print(\"user can edit this section\")"
   ]
  },
  {
   "attachments": {},
   "cell_type": "markdown",
   "metadata": {},
   "source": [
    "## Evaluation"
   ]
  },
  {
   "attachments": {},
   "cell_type": "markdown",
   "metadata": {
    "jp-MarkdownHeadingCollapsed": true
   },
   "source": [
    "#### Mock classifier response function"
   ]
  },
  {
   "cell_type": "code",
   "execution_count": 2,
   "metadata": {
    "contenteditable": false,
    "deletable": false,
    "editable": false
   },
   "outputs": [],
   "source": [
    "import json, random\n",
    "fruit_traits = [\"fruit\",\"color\"]\n",
    "fruits_list_file = open(\"./fruits-list.json\")\n",
    "fruits = json.load(fruits_list_file)\n",
    "def random_fruit_classifier_output():\n",
    "    data = []\n",
    "    for label in fruit_traits:\n",
    "        for fruit in fruits:\n",
    "            correctAnswer = random.randint(1,100) < 85\n",
    "            data.append({\n",
    "                \"inputText\": fruit[\"description\"],\n",
    "                \"label\": label,\n",
    "                \"realLabel\": fruit[\"traits\"][label],\n",
    "                \"classifierLabel\": fruit[\"traits\"][label] if correctAnswer else fruits[random.randint(0, len(fruits)-1)][\"traits\"][label],\n",
    "                \"confidence\" : random.uniform(0,1)\n",
    "            })\n",
    "    return data"
   ]
  },
  {
   "attachments": {},
   "cell_type": "markdown",
   "metadata": {},
   "source": [
    "#### Evaluation Function"
   ]
  },
  {
   "cell_type": "code",
   "execution_count": null,
   "metadata": {
    "contenteditable": false,
    "deletable": false,
    "editable": false,
    "gai_cell_type": "EVALUATION"
   },
   "outputs": [],
   "source": [
    "five_classifier_outputs = [\n",
    "    random_fruit_classifier_output(),\n",
    "    random_fruit_classifier_output(),\n",
    "    random_fruit_classifier_output(),\n",
    "    random_fruit_classifier_output(),\n",
    "    random_fruit_classifier_output()\n",
    "]\n",
    "print(json.dumps(five_classifier_outputs, indent=2))"
   ]
  }
 ],
 "metadata": {
  "kernelspec": {
   "display_name": "Python 3 (ipykernel)",
   "language": "python",
   "name": "python3"
  },
  "language_info": {
   "codemirror_mode": {
    "name": "ipython",
    "version": 3
   },
   "file_extension": ".py",
   "mimetype": "text/x-python",
   "name": "python",
   "nbconvert_exporter": "python",
   "pygments_lexer": "ipython3",
   "version": "3.10.7"
  },
  "vscode": {
   "interpreter": {
    "hash": "4b655b960f58f067faa17677b2a61dad4dd7349f9b1d9b48ec4c1e58710c42f6"
   }
  }
 },
 "nbformat": 4,
 "nbformat_minor": 4
}
