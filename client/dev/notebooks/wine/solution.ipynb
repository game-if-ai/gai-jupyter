{
 "cells": [
  {
   "cell_type": "code",
   "execution_count": null,
   "id": "833ef58a-452f-49e3-b820-67206e487439",
   "metadata": {},
   "outputs": [],
   "source": [
    "%load_ext pycodestyle_magic"
   ]
  },
  {
   "cell_type": "code",
   "execution_count": 7,
   "id": "48053b6f-9a79-4371-aeea-143259f90e44",
   "metadata": {
    "contenteditable": false,
    "deletable": false,
    "editable": false,
    "gai_cell_type": "SETUP",
    "gai_description": "",
    "gai_title": "Setup",
    "tags": [
     "highlight"
    ]
   },
   "outputs": [],
   "source": [
    "import pandas as pd\n",
    "from sklearn.preprocessing import StandardScaler\n",
    "from sklearn.cluster import KMeans\n",
    "import json\n",
    "import tempfile\n",
    "\n",
    "result = []\n",
    "result.append(json.dumps({}))\n",
    "# SETUP\n",
    "def cluster(wineData_scaled, n_clusters):\n",
    "    model = KMeans(n_clusters=n_clusters, n_init=\"auto\", random_state=2023)\n",
    "    model.fit(wineData_scaled)\n",
    "    return model\n",
    "\n",
    "wineData_raw = pd.read_csv(f\"./wineQualityReds.csv\")"
   ]
  },
  {
   "cell_type": "code",
   "execution_count": 8,
   "id": "904edeb2-da88-4da0-a4a6-325ea2b7cf64",
   "metadata": {
    "check_lint": true,
    "deletable": false,
    "gai_cell_type": "MODEL",
    "gai_description": "This is the model cell. It has been filled in with stub code that you should edit.",
    "gai_title": "Model"
   },
   "outputs": [],
   "source": [
    "def preprocess(wineDataFrame):\n",
    "    # 1. drop \"Wine\" column which just assigns a number (1, 2, ...) to each wine\n",
    "    # It is okay to modify wineDataFrame\n",
    "    wineDataFrame.drop(\"Wine\", axis=1, inplace=True)\n",
    "\n",
    "    # 2. split into data and labels. It is okay to modify wineDataFrame.\n",
    "    quality = wineDataFrame[\"quality\"]\n",
    "    wineDataFrame.drop(\"quality\", axis=1, inplace=True)\n",
    "\n",
    "    # 3. scale data but don't overwrite raw data\n",
    "    # 4. return data and labels\n",
    "    scaler = StandardScaler()\n",
    "    scaler.fit(wineDataFrame)\n",
    "    return pd.DataFrame(scaler.transform(wineDataFrame), columns=wineDataFrame.columns), quality\n",
    "\n",
    "wineData_scaled, quality = preprocess(wineData_raw)\n",
    "k = 6\n",
    "model = cluster(wineData_scaled, k)"
   ]
  },
  {
   "cell_type": "code",
   "execution_count": 9,
   "id": "9634f737-3f7b-47f7-98bb-ea79debeeb71",
   "metadata": {
    "contenteditable": false,
    "deletable": false,
    "editable": false,
    "gai_cell_type": "VALIDATION",
    "gai_description": "This is the validation cell. It will use the testing data to generate outputs from your model.",
    "gai_title": "Validation",
    "tags": [
     "highlight"
    ]
   },
   "outputs": [
    {
     "name": "stdout",
     "output_type": "stream",
     "text": [
      "   quality    N\n",
      "5    5.318  513\n",
      "2    5.322  339\n",
      "3    5.357   28\n",
      "1    5.864  287\n",
      "0    5.877  195\n",
      "4    6.333  237\n"
     ]
    }
   ],
   "source": [
    "# VALIDATION\n",
    "wineData_scaled[\"Cluster\"] = pd.Series(model.predict(wineData_scaled))\n",
    "wineData_scaled['quality'] = quality\n",
    "quality_means = []\n",
    "Ns = []\n",
    "for i in range(k):\n",
    "    cluster_df = wineData_scaled[wineData_scaled[\"Cluster\"] == i]\n",
    "    quality_means.append(round(cluster_df[\"quality\"].mean(), 3))\n",
    "    Ns.append(cluster_df.shape[0])\n",
    "quality_df = pd.DataFrame({\"quality\": quality_means, \"N\": Ns})\n",
    "quality_df.sort_values(\"quality\", ascending=True, inplace=True)\n",
    "result.append(json.dumps(quality_df.to_csv()))"
   ]
  }
 ],
 "metadata": {
  "kernelspec": {
   "display_name": "Python 3",
   "language": "python",
   "name": "python3"
  },
  "language_info": {
   "codemirror_mode": {
    "name": "ipython",
    "version": 3
   },
   "file_extension": ".py",
   "mimetype": "text/x-python",
   "name": "python",
   "nbconvert_exporter": "python",
   "pygments_lexer": "ipython3",
   "version": "3.10.7"
  }
 },
 "nbformat": 4,
 "nbformat_minor": 5
}
