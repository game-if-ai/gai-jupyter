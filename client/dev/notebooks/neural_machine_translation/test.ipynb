{
 "cells": [
  {
   "cell_type": "code",
   "execution_count": 5,
   "id": "8830ed5b-48e8-4911-9595-c4df30f778fc",
   "metadata": {
    "contenteditable": false,
    "deletable": false,
    "gai_cell_type": "SETUP",
    "gai_description": "This is the setup cell. It will generate the testing and training data for your model.",
    "gai_title": "Setup",
    "tags": [
     "highlight"
    ]
   },
   "outputs": [],
   "source": [
    "import os\n",
    "\n",
    "def load_data(path):\n",
    "    # Load input file\n",
    "    input_file = os.path.join(path)\n",
    "    with open(input_file, \"r\") as f:\n",
    "        data = f.read()\n",
    "\n",
    "    return data.split(\"\\n\")\n",
    "\n",
    "from keras.preprocessing.text import Tokenizer\n",
    "from keras.utils import pad_sequences\n",
    "from keras.models import Sequential\n",
    "from keras.layers import GRU, Dense, TimeDistributed, Dropout\n",
    "from keras.models import load_model\n",
    "\n",
    "import numpy as np\n",
    "# Build the RNN layers\n",
    "def simple_model(input_shape, french_vocab_size):\n",
    "    \"\"\"\n",
    "    Build and train a basic RNN on x and y\n",
    "    :param input_shape: Tuple of input shape\n",
    "    :param output_sequence_length: Length of output sequence\n",
    "    :param english_vocab_size: Number of unique English words in the dataset\n",
    "    :param french_vocab_size: Number of unique French words in the dataset\n",
    "    :return: Keras model built, but not trained\n",
    "    \"\"\"\n",
    "    model = Sequential()\n",
    "    model.add(GRU(128, input_shape=input_shape[1:], return_sequences=True))\n",
    "    model.add(Dropout(0.5))\n",
    "    model.add(GRU(128, return_sequences=True))\n",
    "    model.add(Dropout(0.5))\n",
    "    model.add(TimeDistributed(Dense(256, activation='relu')))\n",
    "    model.add(Dropout(0.5))\n",
    "    model.add(TimeDistributed(Dense(french_vocab_size + 1, activation='softmax')))\n",
    "\n",
    "    model.compile(loss=\"sparse_categorical_crossentropy\",\n",
    "                  optimizer=\"adam\",\n",
    "                  metrics=['accuracy'])\n",
    "    return model\n",
    "\n",
    "# Load English data\n",
    "english_sentences = load_data('neural_machine_translation/small_vocab_en')\n",
    "# Load French data\n",
    "french_sentences = load_data('neural_machine_translation/small_vocab_fr')\n",
    "\n",
    "french_tokenizer = Tokenizer()\n",
    "english_tokenizer = Tokenizer()"
   ]
  },
  {
   "cell_type": "code",
   "execution_count": null,
   "id": "e8225ac0-5521-4ab8-87e8-74052b637e02",
   "metadata": {
    "deletable": false,
    "gai_cell_type": "MODEL",
    "gai_description": "This is the model cell. It has been filled in with stub code that you should edit.",
    "gai_title": "Model"
   },
   "outputs": [],
   "source": [
    "def preprocess_func(x, x_tokenizer, y, y_tokenizer):\n",
    "    \"\"\"\n",
    "    Preprocess x and y\n",
    "    :param x: Feature List of sentences\n",
    "    :param x_tokenzier: tokenizer for x\n",
    "    :param y: Label List of sentences\n",
    "    :param: y_tokenizer: tokenizer for y\n",
    "    :return: Tuple of (Preprocessed x, Preprocessed y)\n",
    "    \"\"\"\n",
    "    # TODO: add code here\n",
    "    # Note: Keras's sparse_categorical_crossentropy function requires the labels to be in 3 dimensions\n",
    "    raise Exception(\"Function not implemented\")\n",
    "\n",
    "def logits_to_text(logits, tokenizer):\n",
    "    \"\"\"\n",
    "    Turn logits from a neural network into text using the tokenizer\n",
    "    :param logits: Logits from a neural network\n",
    "    :param tokenizer: Keras Tokenizer fit on the labels\n",
    "    :return: String that represents the text of the logits\n",
    "    \"\"\"\n",
    "    # TODO: add code here\n",
    "    raise Exception(\"Function not implemented\")"
   ]
  },
  {
   "cell_type": "code",
   "execution_count": null,
   "id": "dea6e9e8-6717-498c-8f85-c31c129f6b02",
   "metadata": {
    "contenteditable": false,
    "deletable": false,
    "gai_cell_type": "VALIDATION",
    "gai_description": "This is the validation cell. It will use the testing data to generate outputs from your model.",
    "gai_title": "Validation",
    "tags": [
     "highlight"
    ]
   },
   "outputs": [],
   "source": [
    "preproc_english_sentences, preproc_french_sentences = preprocess_func(english_sentences,\n",
    "                                                            english_tokenizer,\n",
    "                                                            french_sentences,\n",
    "                                                            french_tokenizer)\n",
    "# Train the neural network\n",
    "french_vocab_size = len(french_tokenizer.word_index)\n",
    "model = load_model(\"translation.tf\")\n",
    "\n",
    "JSON(preproc_english_sentences)\n",
    "JSON(preproc_french_sentences)\n",
    "print(type(preproc_english_sentences))\n",
    "print(type(preproc_french_sentences))\n",
    "\n",
    "print(\"English sentence:\", english_sentences[0])\n",
    "print(\"Actual translation:\", french_sentences[0])\n",
    "print(\"Predicted translation:\", logits_to_text(model.predict(preproc_english_sentences[:1])[0], french_tokenizer))"
   ]
  }
 ],
 "metadata": {
  "kernelspec": {
   "display_name": "Python 3 (ipykernel)",
   "language": "python",
   "name": "python3"
  },
  "language_info": {
   "codemirror_mode": {
    "name": "ipython",
    "version": 3
   },
   "file_extension": ".py",
   "mimetype": "text/x-python",
   "name": "python",
   "nbconvert_exporter": "python",
   "pygments_lexer": "ipython3",
   "version": "3.10.4"
  }
 },
 "nbformat": 4,
 "nbformat_minor": 5
}
