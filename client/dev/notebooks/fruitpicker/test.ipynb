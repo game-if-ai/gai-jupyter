{
 "cells": [
  {
   "attachments": {},
   "cell_type": "markdown",
   "metadata": {},
   "source": [
    "# Setup\n",
    "### Runs all initialization"
   ]
  },
  {
   "cell_type": "code",
   "execution_count": 1,
   "metadata": {
    "contenteditable": false,
    "deletable": false,
    "editable": false,
    "tags": [
     "highlight"
    ]
   },
   "outputs": [],
   "source": [
    "### This cell is uneditable\n",
    "# training data:\n",
    "filename = \"fruitpicker/fruits.json\"\n",
    "fruit_traits = [\"fruit\",\"color\"]"
   ]
  },
  {
   "cell_type": "code",
   "execution_count": 1,
   "metadata": {
    "contenteditable": false,
    "deletable": false,
    "editable": false,
    "gai_cell_type": "INPUT",
    "tags": [
     "highlight"
    ]
   },
   "outputs": [],
   "source": [
    "### This cell is uneditable\n",
    "# example input for simulator runs:\n",
    "inputs = [\n",
    "    # input for each run is a list of fruits with a description and traits, and the label to categorize the fruit into\n",
    "    [{\"label\": \"fruit\", \"fruit\": {\"description\": \"A round and red apple.\", \"traits\": {\"fruit\": \"apple\",\"color\": \"red\"}}}],\n",
    "    [{\"label\": \"color\", \"fruit\": {\"description\": \"A round and red apple.\", \"traits\": {\"fruit\": \"apple\",\"color\": \"red\"}}}],\n",
    "]"
   ]
  },
  {
   "attachments": {},
   "cell_type": "markdown",
   "metadata": {},
   "source": [
    "## Evaluation"
   ]
  },
  {
   "attachments": {},
   "cell_type": "markdown",
   "metadata": {
    "jp-MarkdownHeadingCollapsed": true
   },
   "source": [
    "#### Mock classifier response function"
   ]
  },
  {
   "cell_type": "code",
   "execution_count": 2,
   "metadata": {
    "contenteditable": false,
    "deletable": false,
    "editable": false,
    "gai_cell_type": "EVALUATION"
   },
   "outputs": [],
   "source": [
    "# Mock classifier response function\n",
    "import json, random\n",
    "\n",
    "fruits_list_file = open(filename)\n",
    "fruits = json.load(fruits_list_file)\n",
    "\n",
    "# Your classifier code goes here:\n",
    "def classifier_output(run):\n",
    "    output = []\n",
    "    data = {}\n",
    "    label = run[0][\"label\"]\n",
    "    for fruit in fruits:\n",
    "        correctAnswer = random.randint(1,100) < 85\n",
    "        data[fruit[\"description\"]] = {\n",
    "            \"inputText\": fruit[\"description\"],\n",
    "            \"label\": label,\n",
    "            \"realLabel\": fruit[\"traits\"][label],\n",
    "            \"classifierLabel\": fruit[\"traits\"][label] if correctAnswer else fruits[random.randint(0, len(fruits)-1)][\"traits\"][label],\n",
    "            \"confidence\" : random.uniform(0,1)\n",
    "        }\n",
    "    for r in run:\n",
    "        fruit = r[\"fruit\"]\n",
    "        input_text = fruit[\"description\"]\n",
    "        output.append(data[input_text])\n",
    "    return output"
   ]
  },
  {
   "cell_type": "code",
   "execution_count": 1,
   "metadata": {
    "contenteditable": false,
    "deletable": false,
    "editable": false,
    "gai_cell_type": "OUTPUT",
    "tags": [
     "highlight"
    ]
   },
   "outputs": [],
   "source": [
    "from IPython.display import JSON\n",
    "\n",
    "outputs = []\n",
    "for run in inputs:\n",
    "    outputs.append(classifier_output(run))\n",
    "\n",
    "\n",
    "JSON(outputs)"
   ]
  }
 ],
 "metadata": {
  "kernelspec": {
   "display_name": "Python 3 (ipykernel)",
   "language": "python",
   "name": "python3"
  },
  "language_info": {
   "codemirror_mode": {
    "name": "ipython",
    "version": 3
   },
   "file_extension": ".py",
   "mimetype": "text/x-python",
   "name": "python",
   "nbconvert_exporter": "python",
   "pygments_lexer": "ipython3",
   "version": "3.10.7"
  },
  "vscode": {
   "interpreter": {
    "hash": "4b655b960f58f067faa17677b2a61dad4dd7349f9b1d9b48ec4c1e58710c42f6"
   }
  }
 },
 "nbformat": 4,
 "nbformat_minor": 4
}
