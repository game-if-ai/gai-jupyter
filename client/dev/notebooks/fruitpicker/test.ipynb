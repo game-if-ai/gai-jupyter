{
 "cells": [
  {
   "cell_type": "code",
   "execution_count": null,
   "metadata": {
    "contenteditable": false,
    "deletable": false,
    "editable": false,
    "gai_cell_type": "INPUT",
    "tags": [
     "highlight"
    ]
   },
   "outputs": [],
   "source": [
    "### This cell is uneditable ###\n",
    "import json, random\n",
    "import numpy as np\n",
    "from sklearn.model_selection import train_test_split\n",
    "from IPython.display import JSON\n",
    "\n",
    "# load fruit data:\n",
    "fruit_traits = [\"fruit\",\"color\",\"shape\"]\n",
    "fruits_file = open(\"fruitpicker/fruits.json\")\n",
    "fruits = json.load(fruits_file)\n",
    "\n",
    "# split into training and testing data\n",
    "random.shuffle(fruits)\n",
    "training_data, testing_data = train_test_split(fruits)\n",
    "\n",
    "# split testing data into 5 simulation runs\n",
    "inputs = []\n",
    "for x in range(0, 5):\n",
    "    run = []\n",
    "    label = random.choice(fruit_traits)\n",
    "    random.shuffle(testing_data)\n",
    "    for fruit in testing_data:\n",
    "        run.append({\"label\": label, \"fruit\": fruit})\n",
    "    inputs.append(run)\n",
    "\n",
    "JSON([len(training_data), len(testing_data)])"
   ]
  },
  {
   "cell_type": "code",
   "execution_count": null,
   "metadata": {
    "deletable": false,
    "gai_cell_type": "EVALUATION"
   },
   "outputs": [],
   "source": [
    "import random\n",
    "\n",
    "# Your training code goes here:\n",
    "def train():\n",
    "    print(\"do something\")\n",
    "\n",
    "# Your classifier code goes here:\n",
    "def classify(fruit, label):\n",
    "    correctAnswer = random.randint(1,10) < 5\n",
    "    output = {\n",
    "        \"fruit\": fruit,\n",
    "        \"label\": label,\n",
    "        \"inputText\": fruit[\"description\"],\n",
    "        \"realLabel\": fruit[\"traits\"][label],\n",
    "        \"classifierLabel\": fruit[\"traits\"][label] if correctAnswer else fruits[random.randint(0, len(fruits)-1)][\"traits\"][label],\n",
    "        \"confidence\" : random.uniform(0,1)\n",
    "    }\n",
    "    return output"
   ]
  },
  {
   "cell_type": "code",
   "execution_count": null,
   "metadata": {
    "contenteditable": false,
    "deletable": false,
    "editable": false,
    "gai_cell_type": "OUTPUT",
    "tags": [
     "highlight"
    ]
   },
   "outputs": [],
   "source": [
    "### This cell is uneditable ###\n",
    "from IPython.display import JSON\n",
    "\n",
    "outputs = []\n",
    "for run in inputs:\n",
    "    output = []\n",
    "    for fruit in run:\n",
    "        output.append(classify(fruit.get(\"fruit\"), fruit.get(\"label\")))\n",
    "    outputs.append(output)\n",
    "\n",
    "JSON(outputs)"
   ]
  }
 ],
 "metadata": {
  "notebook_id": "123",
  "kernelspec": {
   "display_name": "Python 3 (ipykernel)",
   "language": "python",
   "name": "python3"
  },
  "language_info": {
   "codemirror_mode": {
    "name": "ipython",
    "version": 3
   },
   "file_extension": ".py",
   "mimetype": "text/x-python",
   "name": "python",
   "nbconvert_exporter": "python",
   "pygments_lexer": "ipython3",
   "version": "3.10.7"
  },
  "vscode": {
   "interpreter": {
    "hash": "4b655b960f58f067faa17677b2a61dad4dd7349f9b1d9b48ec4c1e58710c42f6"
   }
  }
 },
 "nbformat": 4,
 "nbformat_minor": 4
}