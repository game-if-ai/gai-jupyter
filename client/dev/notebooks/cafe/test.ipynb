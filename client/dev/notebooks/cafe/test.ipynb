{
 "cells": [
  {
   "cell_type": "code",
   "execution_count": 5,
   "metadata": {
    "contenteditable": false,
    "deletable": false,
    "editable": false,
    "gai_cell_type": "INPUT",
    "gai_title": "Model Input",
    "gai_description": "This is the input cell. It will generate the testing and training data for your model.",
    "tags": [
     "highlight"
    ]
   },
   "outputs": [
    {
     "name": "stderr",
     "output_type": "stream",
     "text": [
      "[nltk_data] Downloading package wordnet to /root/nltk_data...\n",
      "[nltk_data]   Package wordnet is already up-to-date!\n",
      "[nltk_data] Downloading package stopwords to /root/nltk_data...\n",
      "[nltk_data]   Package stopwords is already up-to-date!\n"
     ]
    }
   ],
   "source": [
    "import pandas as pd\n",
    "import nltk, json\n",
    "import numpy as np\n",
    "\n",
    "nltk.download('wordnet')\n",
    "nltk.download(\"stopwords\")\n",
    "\n",
    "REVIEW = \"review\"\n",
    "\n",
    "# use smaller set\n",
    "with open(\"cafe/reviews.json\") as IN:\n",
    "    data = pd.DataFrame(json.load(IN))\n",
    "\n",
    "from sklearn.model_selection import train_test_split\n",
    "x_train, x_test, y_train, y_test = train_test_split(data[REVIEW],\n",
    "                                                    data['rating'],\n",
    "                                                    stratify=data['rating'],\n",
    "                                                    random_state=21)\n"
   ]
  },
  {
   "cell_type": "code",
   "execution_count": 6,
   "metadata": {
    "deletable": false,
    "gai_cell_type": "EVALUATION",
    "gai_title": "Model Evaluation",
    "gai_description": "This is the evaluation cell. It has been filled in with stub code that you should edit."
   },
   "outputs": [],
   "source": [
    "from sklearn.dummy import DummyClassifier\n",
    "from sklearn.feature_extraction.text import HashingVectorizer\n",
    "\n",
    "# TODO: preprocess data?\n",
    "\n",
    "# pick vectorizer\n",
    "vectorizer = HashingVectorizer()\n",
    "x_train_features = vectorizer.fit_transform(x_train)\n",
    "x_test_features = vectorizer.transform(x_test)\n",
    "\n",
    "def train(classifier, x, y):\n",
    "    classifier.fit(x, y)\n",
    "\n",
    "# pick classifier\n",
    "classifier = DummyClassifier(strategy=\"uniform\")\n",
    "\n",
    "# train\n",
    "train(classifier,x_train_features, y_train)"
   ]
  },
  {
   "cell_type": "code",
   "execution_count": 8,
   "metadata": {
    "contenteditable": false,
    "deletable": false,
    "editable": false,
    "gai_cell_type": "OUTPUT",
    "gai_title": "Model Output",
    "gai_description": "This is the output cell. It will use the testing data to generate outputs from your model.",
    "tags": [
     "highlight"
    ]
   },
   "outputs": [
    {
     "ename": "IndexError",
     "evalue": "list assignment index out of range",
     "output_type": "error",
     "traceback": [
      "\u001b[0;31m---------------------------------------------------------------------------\u001b[0m",
      "\u001b[0;31mIndexError\u001b[0m                                Traceback (most recent call last)",
      "Cell \u001b[0;32mIn[8], line 26\u001b[0m\n\u001b[1;32m     24\u001b[0m y_pred\u001b[39m.\u001b[39mappend(y_pred_test[i])\n\u001b[1;32m     25\u001b[0m \u001b[39mif\u001b[39;00m trial \u001b[39mnot\u001b[39;00m \u001b[39min\u001b[39;00m experiment:\n\u001b[0;32m---> 26\u001b[0m     experiment[trial] \u001b[39m=\u001b[39m []\n\u001b[1;32m     27\u001b[0m experiment[trial] \u001b[39m=\u001b[39m (experiment[trial] \u001b[39mor\u001b[39;00m [])\u001b[39m.\u001b[39mappend({\n\u001b[1;32m     28\u001b[0m     \u001b[39m\"\u001b[39m\u001b[39minputText\u001b[39m\u001b[39m\"\u001b[39m: x_test_list[i],\n\u001b[1;32m     29\u001b[0m     \u001b[39m\"\u001b[39m\u001b[39mrealLabel\u001b[39m\u001b[39m\"\u001b[39m: y_test_list[i],\n\u001b[1;32m     30\u001b[0m     \u001b[39m\"\u001b[39m\u001b[39mclassifierLabel\u001b[39m\u001b[39m\"\u001b[39m: y_pred_test[i],\n\u001b[1;32m     31\u001b[0m     \u001b[39m\"\u001b[39m\u001b[39mconfidence\u001b[39m\u001b[39m\"\u001b[39m: \u001b[39mmax\u001b[39m(y_proba[i])\n\u001b[1;32m     32\u001b[0m })\n\u001b[1;32m     33\u001b[0m \u001b[39m# experiment.append({\u001b[39;00m\n\u001b[1;32m     34\u001b[0m \u001b[39m#     \"inputText\": x_test_list[i],\u001b[39;00m\n\u001b[1;32m     35\u001b[0m \u001b[39m#     \"realLabel\": y_test_list[i],\u001b[39;00m\n\u001b[1;32m     36\u001b[0m \u001b[39m#     \"classifierLabel\": y_pred_test[i],\u001b[39;00m\n\u001b[1;32m     37\u001b[0m \u001b[39m#     \"confidence\": max(y_proba[i])\u001b[39;00m\n\u001b[1;32m     38\u001b[0m \u001b[39m# })\u001b[39;00m\n",
      "\u001b[0;31mIndexError\u001b[0m: list assignment index out of range"
     ]
    }
   ],
   "source": [
    "y_pred_test = classifier.predict(x_test_features)\n",
    "y_proba = classifier.predict_proba(x_test_features)\n",
    "\n",
    "from sklearn.metrics import f1_score\n",
    "from IPython.display import JSON\n",
    "output = []\n",
    "x_test_list = x_test.to_list()\n",
    "y_test_list = y_test.to_list()\n",
    "experiment_size = y_pred_test.size // 5\n",
    "trial = 0\n",
    "experiment = []\n",
    "y_true = []\n",
    "y_pred = []\n",
    "f1_scores = []\n",
    "for i in range(y_pred_test.size):\n",
    "    if trial == experiment_size and i + experiment_size <= y_pred_test.size:\n",
    "        output.append(experiment)\n",
    "        experiment = []\n",
    "        trial = 0\n",
    "        f1_scores.append(f1_score(y_true, y_pred))\n",
    "        y_true = []\n",
    "        y_pred = []\n",
    "    y_true.append(y_test_list[i])\n",
    "    y_pred.append(y_pred_test[i])\n",
    "    experiment.append({\n",
    "        \"inputText\": x_test_list[i],\n",
    "        \"realLabel\": y_test_list[i],\n",
    "        \"classifierLabel\": y_pred_test[i],\n",
    "        \"confidence\": max(y_proba[i])\n",
    "    })\n",
    "    trial += 1\n",
    "JSON(output)"
   ]
  }
 ],
 "metadata": {
  "kernelspec": {
   "display_name": "Python 3 (ipykernel)",
   "language": "python",
   "name": "python3"
  },
  "language_info": {
   "codemirror_mode": {
    "name": "ipython",
    "version": 3
   },
   "file_extension": ".py",
   "mimetype": "text/x-python",
   "name": "python",
   "nbconvert_exporter": "python",
   "pygments_lexer": "ipython3",
   "version": "3.9.13-final"
  },
  "vscode": {
   "interpreter": {
    "hash": "4b655b960f58f067faa17677b2a61dad4dd7349f9b1d9b48ec4c1e58710c42f6"
   }
  }
 },
 "nbformat": 4,
 "nbformat_minor": 4
}
