{
 "cells": [
  {
   "attachments": {},
   "cell_type": "markdown",
   "metadata": {},
   "source": [
    "# Setup\n",
    "### Runs all initialization"
   ]
  },
  {
   "cell_type": "code",
   "execution_count": null,
   "metadata": {
    "gai_cell_type": "INPUT",
    "contenteditable": false,
    "deletable": false,
    "editable": false,
    "tags": [
     "highlight"
    ]
   },
   "outputs": [],
   "source": [
    "### This cell is uneditable ###\n",
    "import json, random\n",
    "import numpy as np\n",
    "from sklearn.model_selection import train_test_split\n",
    "from IPython.display import JSON\n",
    "\n",
    "# load review data:\n",
    "reviews_file = open(\"cafe/reviews.json\")\n",
    "reviews = json.load(reviews_file)\n",
    "\n",
    "# split into training and testing data\n",
    "random.shuffle(reviews)\n",
    "training_data, testing_data = train_test_split(reviews)\n",
    "\n",
    "# split testing data into 5 simulation runs\n",
    "inputs = np.array_split(testing_data, 5)\n",
    "\n",
    "JSON([len(training_data), len(testing_data)])"
   ]
  },
  {
   "attachments": {},
   "cell_type": "markdown",
   "metadata": {},
   "source": [
    "## Evaluation"
   ]
  },
  {
   "cell_type": "code",
   "execution_count": null,
   "metadata": {
    "gai_cell_type": "EVALUATION",
    "deletable": false
   },
   "outputs": [],
   "source": [
    "import random\n",
    "\n",
    "# Your training code goes here:\n",
    "def train():\n",
    "    print(\"do something\")\n",
    "\n",
    "# Your classifier code goes here:\n",
    "def classify(review):\n",
    "    output = {\n",
    "        'review': review,\n",
    "        'inputText': review['review'],\n",
    "        'realLabel': review['rating'],\n",
    "        'classifierLabel': random.randint(0,1),\n",
    "        'confidence': random.uniform(0,1)\n",
    "    }\n",
    "    return output"
   ]
  },
  {
   "cell_type": "code",
   "execution_count": null,
   "metadata": {
    "gai_cell_type": "OUTPUT",
    "contenteditable": false,
    "deletable": false,
    "editable": false,
    "tags": [
     "highlight"
    ]
   },
   "outputs": [],
   "source": [
    "### This cell is uneditable ###\n",
    "from IPython.display import JSON\n",
    "\n",
    "outputs = []\n",
    "for run in inputs:\n",
    "    output = []\n",
    "    for review in run:\n",
    "        output.append(classify(review))\n",
    "    outputs.append(output)\n",
    "\n",
    "JSON(outputs)"
   ]
  }
 ],
 "metadata": {
  "kernelspec": {
   "display_name": "Python 3 (ipykernel)",
   "language": "python",
   "name": "python3"
  },
  "language_info": {
   "codemirror_mode": {
    "name": "ipython",
    "version": 3
   },
   "file_extension": ".py",
   "mimetype": "text/x-python",
   "name": "python",
   "nbconvert_exporter": "python",
   "pygments_lexer": "ipython3",
   "version": "3.9.13-final"
  },
  "vscode": {
   "interpreter": {
    "hash": "4b655b960f58f067faa17677b2a61dad4dd7349f9b1d9b48ec4c1e58710c42f6"
   }
  }
 },
 "nbformat": 4,
 "nbformat_minor": 4
}