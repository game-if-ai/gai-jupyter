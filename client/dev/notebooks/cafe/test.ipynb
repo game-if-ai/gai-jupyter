{
  "cells": [
   {
    "cell_type": "code",
    "execution_count": null,
    "id": "1627012d-fdcd-49fa-9a92-7c9d9e5e45c6",
    "metadata": {
     "contenteditable": false,
     "deletable": false,
     "editable": false,
     "hidden": true
    },
    "outputs": [],
    "source": [
     "%load_ext pycodestyle_magic"
    ]
   },
   {
    "cell_type": "code",
    "execution_count": null,
    "id": "142650a0-f443-4c34-94ad-288551ed6136",
    "metadata": {
     "contenteditable": false,
     "deletable": false,
     "editable": false,
     "gai_cell_type": "SETUP",
     "gai_description": "This cell will load the data and defines a function to build and train the neural network.",
     "gai_title": "Setup",
     "tags": [
      "highlight"
     ]
    },
    "outputs": [],
    "source": [
     "import pandas as pd\n",
     "import nltk, json\n",
     "from IPython.display import JSON\n",
     "\n",
     "nltk.download('wordnet', quiet=True)\n",
     "nltk.download(\"stopwords\", quiet=True)\n",
     "\n",
     "REVIEW = \"review\"\n",
     "\n",
     "# use smaller set\n",
     "with open(\"cafe/reviews.json\") as IN:\n",
     "    data = pd.DataFrame(json.load(IN))\n",
     "\n",
     "from sklearn.model_selection import train_test_split\n",
     "x_train, x_test, y_train, y_test = train_test_split(data[REVIEW],\n",
     "                                                    data['rating'],\n",
     "                                                    stratify=data['rating'],\n",
     "                                                    random_state=21)\n",
     "\n",
     "JSON([len(x_train) + len(y_train), len(x_test) + len(y_test)])"
    ]
   },
   {
    "cell_type": "code",
    "execution_count": 2,
    "id": "318d5d77-0528-453d-a378-647991fcd843",
    "metadata": {
     "check_lint": false,
     "deletable": false,
     "gai_cell_type": "MODEL",
     "gai_description": "This cell has the headers for the preprocessing and output postprocessing functions that you should write.",
     "gai_title": "Model"
    },
    "outputs": [],
    "source": [
     "from sklearn.dummy import DummyClassifier\n",
     "from sklearn.feature_extraction.text import CountVectorizer\n",
     "\n",
     "# pick vectorizer\n",
     "vectorizer = CountVectorizer(binary=True)\n",
     "x_train_features = vectorizer.fit_transform(x_train)\n",
     "x_test_features = vectorizer.transform(x_test)\n",
     "\n",
     "def train(classifier, x, y):\n",
     "    classifier.fit(x, y)\n",
     "\n",
     "# pick classifier\n",
     "classifier = DummyClassifier(strategy=\"uniform\")\n",
     "\n",
     "# train\n",
     "train(classifier,x_train_features, y_train)"
    ]
   },
   {
    "cell_type": "code",
    "execution_count": 3,
    "id": "cd63cd0d-169c-4fcb-8d6e-97571ed925cd",
    "metadata": {
     "contenteditable": false,
     "deletable": false,
     "editable": false,
     "gai_cell_type": "VALIDATION",
     "gai_description": "This cell prints an English sentence, its correct French translation, and the translation from the completed network.",
     "gai_title": "Validation",
     "tags": [
      "highlight"
     ]
    },
    "outputs": [
     {
      "data": {
       "application/json": [
        [
         {
          "classifierLabel": 0,
          "confidence": 0.5,
          "inputText": "Came fast. Works well, sturdy.",
          "realLabel": 1
         },
         {
          "classifierLabel": 1,
          "confidence": 0.5,
          "inputText": "I surprised my daughter with with roaster for Christmas.  Her old one was 8 years old and had rust spots.  She loves it.",
          "realLabel": 1
         },
         {
          "classifierLabel": 0,
          "confidence": 0.5,
          "inputText": "use it often in my air fryer",
          "realLabel": 1
         },
         {
          "classifierLabel": 0,
          "confidence": 0.5,
          "inputText": "Carafe is made out of very thin glass. I used it for one week before it cracked and broke.",
          "realLabel": 0
         },
         {
          "classifierLabel": 1,
          "confidence": 0.5,
          "inputText": "Bought for a funny gift for my absolutely wonderful new step mom. Very solid looking mug and arrived promptly and well packaged.",
          "realLabel": 1
         },
         {
          "classifierLabel": 1,
          "confidence": 0.5,
          "inputText": "I found the garlic press easy to use and clean.  However I could not figure out how to get my free ebook cookbook that was also advertised with the purchase of the press.  Because of this, I gave it 4 stars.",
          "realLabel": 1
         },
         {
          "classifierLabel": 1,
          "confidence": 0.5,
          "inputText": "After throwing out several inexpensive tableware sets over the past few years<br />I decided to do some research and buy something more substantial without<br />being too expensive. This set of flatware is sturdy, good in the dishwasher and<br />seems to be a good buy.",
          "realLabel": 1
         },
         {
          "classifierLabel": 0,
          "confidence": 0.5,
          "inputText": "I had such a pan for about 8 months and will throw it away.  It was great during the first few months, but now, the pan has become much worse than older teflon models I still have.  I can no longer cook meat with it as it will stick horribly, and I have to rip the stuff off the pan.  The coating material will not survive normal kitchen use.",
          "realLabel": 0
         },
         {
          "classifierLabel": 1,
          "confidence": 0.5,
          "inputText": "I love my nut sac!  I use it 2 times a week for almond milk and I also use t for my chicken stock and my homemade ricotta. Works great and super easy to clean. I may get a few more.",
          "realLabel": 1
         },
         {
          "classifierLabel": 1,
          "confidence": 0.5,
          "inputText": "I bought this product a year ago and I only used it two or three times. Afterwards the machine sounded as it was working but was unable to grind beans as explained in this link: [...]<br /><br />I tried to follow the manual instructions to restore the grinder, then I contacted the customer support twice. The first time I asked for a power unit replacement that I was willing to pay, but they said don't provide separately.<br />The second time I claimed a replacement for the unit if the warranty was still valid. The slow answering customer support just sought an easy way out to void the warranty. At the same time, I also hired two technicians but they were unable to fix it.<br /><br />The grinder looks good and it's easy to operate. However, there's a high probability that it won't work with oily or sticky beans. Therefore, unless you plan to grind cinnamon roast beans don't bother buying it, because the customer support experience isn't really worth the price.",
          "realLabel": 0
         },
         {
          "classifierLabel": 1,
          "confidence": 0.5,
          "inputText": "Although we would have liked to know ahead of time that these glasses are not plastic, but made of actual glass, they arrived in individual boxes, four glasses to the outer box. Each was individually wrapped and there was not any breakage in shipping. They are of a nice quality and everyone in our group thought they were attractive. They made nice take home presents for guests.",
          "realLabel": 1
         },
         {
          "classifierLabel": 1,
          "confidence": 0.5,
          "inputText": "I didn't do all my homework before purchasing these knives. They cut really well and the handles are comfortable but they are not dishwasher safe. There is some blurb in the instructions about ruining the handles....blah blah blah. I only spent $55 on these knives so I've ignored the message and put them in the dishwasher.  Most of the knives have been washed about twice and they seem to be doing just fine.",
          "realLabel": 1
         },
         {
          "classifierLabel": 0,
          "confidence": 0.5,
          "inputText": "Motor Just burned out making pina coladas on xmas while entertaining guests.  How embarassing!  Bought this in the summer for smoothies.  Do not buy!!!!!!!!   The company offers to fix but I have to pay shipping, no replacement plan.  I know this will burn out again once it is fixed.  My prior blender lasted more than 10 years and still worked.  I replaced it because the plastic container cracked.  I thought I was upgrading to a modern high tech model, what a joke. I prefer 10 years not 10 uses...",
          "realLabel": 0
         },
         {
          "classifierLabel": 1,
          "confidence": 0.5,
          "inputText": "The electric water bath canner takes the heavy lifting out of canning.  It is easy to use, and the instructions were clear and easy to follow.  I was glad the instructions said to test the spout for leakage before filling the kettle. I hadn't tightened the spout adequately, but I was able to correct that without dealing with hot water.  It can also be used as a steamer or as a supersized kettle.",
          "realLabel": 1
         },
         {
          "classifierLabel": 0,
          "confidence": 0.5,
          "inputText": "doesnt work well...",
          "realLabel": 0
         },
         {
          "classifierLabel": 1,
          "confidence": 0.5,
          "inputText": "It is really good  product. i love  it  it is too sharp and really good for kitchen  i  recommend it to everyone",
          "realLabel": 1
         },
         {
          "classifierLabel": 0,
          "confidence": 0.5,
          "inputText": "I purchased 4 & 3 of them repeatedly failed to close properly or to pop back open when closed. I want to keep the one that works and return the 3 that don't work. I asked for this and don't understand what you want me to do. Please call me.",
          "realLabel": 0
         },
         {
          "classifierLabel": 0,
          "confidence": 0.5,
          "inputText": "I bought this mug because of all the positive reviews here at Amazon. I saw that some people had mentioned that the smell of the lid bothered them. I figured that they were just being too sensitive and it wouldn't be a problem for me. I was wrong; the odor from the rubber lid is really offensive. I tried placing the lid in boiling water for 5 minutes, but it didn't help. If the manufacturer came out with a new lid that didn't smell, I'd be first in line to purchase one.<br /><br />I'd also like to mention that I was surprised that it didn't keep my coffee hot for very long. I certainly expected it to, for two reasons; glass is a good insulator and the mug is double walled. I think the heat escapes mainly from the thin rubber lid which isn't insulated at all. Again, a redesigned lid would be a great addition to the aesthetically appealing mug.<br /><br />The bottom line for me is that if I had it to do over again and I knew what I know now, I'd look elsewhere.",
          "realLabel": 0
         },
         {
          "classifierLabel": 0,
          "confidence": 0.5,
          "inputText": "worked great",
          "realLabel": 1
         },
         {
          "classifierLabel": 1,
          "confidence": 0.5,
          "inputText": "The teacups and saucers are just what we were looking for.  They are very good quality.",
          "realLabel": 1
         },
         {
          "classifierLabel": 1,
          "confidence": 0.5,
          "inputText": "Consistent grind but very, very, loud. The settings for the grind are excellent. Be prepared to spend time once a week for the cleaning that will be required to keep optimal performance. Recommended with considerations of you get what you pay for.",
          "realLabel": 1
         },
         {
          "classifierLabel": 0,
          "confidence": 0.5,
          "inputText": "I have had one of these Jokari for years and wanted to find some to give to friends and family who needed one.  Was surprised and pleased to find they are still available at Amazon.",
          "realLabel": 1
         },
         {
          "classifierLabel": 1,
          "confidence": 0.5,
          "inputText": "Very disappointed.",
          "realLabel": 0
         },
         {
          "classifierLabel": 1,
          "confidence": 0.5,
          "inputText": "Color NOT as pictured, in reality is a much darker aqua color. So if you purchase this for the &#34;robins egg blue&#34; color like I did, you will be disappointed! Other than that, it works just as well as any Moka pot I've ever used so a good product over all. Just wish the color looked like this photo!",
          "realLabel": 0
         },
         {
          "classifierLabel": 0,
          "confidence": 0.5,
          "inputText": "Rusted after one wash",
          "realLabel": 0
         },
         {
          "classifierLabel": 1,
          "confidence": 0.5,
          "inputText": "Adult men with strong hands had to work hard to get the handle into the tube.  Would NOT purchase this item again.  Also took a long time to arrive.",
          "realLabel": 0
         },
         {
          "classifierLabel": 0,
          "confidence": 0.5,
          "inputText": "The size of this item is a joke. It is tiny. Think of the Stonehenge scene in \\\\\"Spinal Tap\\\\\" and you get the idea. Seriously, I don't think more than two or three strawberries can fit in this thing!  Very disappointing!",
          "realLabel": 0
         },
         {
          "classifierLabel": 0,
          "confidence": 0.5,
          "inputText": "end prongs came out of handle 2nd time used.",
          "realLabel": 0
         },
         {
          "classifierLabel": 0,
          "confidence": 0.5,
          "inputText": "This kettle is ADORABLE!!!!!!",
          "realLabel": 1
         },
         {
          "classifierLabel": 0,
          "confidence": 0.5,
          "inputText": "My husband gave me one of these mixers several years ago and I love it.  I have given them as engagement presents to all (3) my granddaughters and they are so appreciative.  Great product!  Grandma",
          "realLabel": 1
         },
         {
          "classifierLabel": 1,
          "confidence": 0.5,
          "inputText": "Purchased this deep fryer December 07.  Worked fine for 3 months and then burned out.  No power light.  Warranty is one year but manufacturer requires customer pay for shipping both ways for repair/replacement.  Not worth the shipping cost to have repaired or replaced.  To bad, I liked the unit when it worked.  Will look for a deep fryer from another manufacturer.  May not buy Rival products in the future.",
          "realLabel": 0
         },
         {
          "classifierLabel": 1,
          "confidence": 0.5,
          "inputText": "Just as the description stated. She is gonna love it. Arrived earlier than stated. The glass seems sustainable and not flimsy. Thanks again, I know she's gonna love it!",
          "realLabel": 1
         },
         {
          "classifierLabel": 0,
          "confidence": 0.5,
          "inputText": "Trying to stay with the green initiative we purchased these cups and have fallen in love with their durability and stability. We highly recommend cups.",
          "realLabel": 1
         },
         {
          "classifierLabel": 0,
          "confidence": 0.5,
          "inputText": "gift",
          "realLabel": 0
         },
         {
          "classifierLabel": 0,
          "confidence": 0.5,
          "inputText": "I own 4 expensive Mr. Christmas items.  They break easily and the company will offer no customer support at all.  They tell you to go find someone that knows how to repair their items, because they don't have that ability.  And there's no warranty.  Oh my goodness, don't waste your money with these people.  If you look at something like merchant circle you will dozens of folks making this same complaint.",
          "realLabel": 0
         },
         {
          "classifierLabel": 0,
          "confidence": 0.5,
          "inputText": "Good! My grandchildren love Frozen",
          "realLabel": 1
         },
         {
          "classifierLabel": 1,
          "confidence": 0.5,
          "inputText": "\\\\\"Travel case\\\\\" for wine glass? It is the same as putting your glass in a Pringles can. Heavy paper sides and a tin top. Not even as rigid as a poster mailing tube. No padding or protection what so ever. VERY disappointed.",
          "realLabel": 0
         },
         {
          "classifierLabel": 0,
          "confidence": 0.5,
          "inputText": "Just as described. I didn't realize it was smaller than I expected.",
          "realLabel": 1
         },
         {
          "classifierLabel": 0,
          "confidence": 0.5,
          "inputText": "We only use the device to cook and/or warm up foods. The bells and whistles are not used. One shortcoming is the that the door is hard to open after pressing the release lever.",
          "realLabel": 1
         },
         {
          "classifierLabel": 0,
          "confidence": 0.5,
          "inputText": "I was not unhappy with this microwave, but it does have a few quirks. However, it died almost exactly 2 years after I bought it (and only has a one year warranty). Now I am shopping for a new microwave, and don't plan to buy another Frigidaire.",
          "realLabel": 0
         },
         {
          "classifierLabel": 1,
          "confidence": 0.5,
          "inputText": "You get what you pay for.  The steam doesn't get very hot.  It works OK, just OK.  I wouldn't re-purchase it or tell someone to buy it.",
          "realLabel": 0
         },
         {
          "classifierLabel": 0,
          "confidence": 0.5,
          "inputText": "This ricer did fine with very soft things like eggs and avocado. However, when I attempted to do potatoes on the fine setting, it didn't have the leverage to press the potatoes and the plastic container started to bend and buckle under the pressure of trying to squeeze out the potatoes. It left the rim bent and the cup weakened and mis-shapen.  I'm going to return it and get one of the all stainless larger comercial ricers instead.",
          "realLabel": 0
         },
         {
          "classifierLabel": 1,
          "confidence": 0.5,
          "inputText": "I received 3 of these Aluminum Card Cases the 3rd one arrived not broken. The closure seems very fragil. Cool little case. I don't know how long it will last. It cost 14.95, returning 2 times cost a little money. My husband did it. I didn't want to put out any more money. Too bad Amazon got associated with this product. Its good as long as it doesn't break.",
          "realLabel": 0
         },
         {
          "classifierLabel": 1,
          "confidence": 0.5,
          "inputText": "I purchased this coffee maker to replace a failed B&D Space Saver (sound like a common scenario). I can only reiterate what's been said before. When it worked, it bellowed enough steam to kill my kitchen cabinets. I did find it a bit irritating that it was all but impossible to remove the last bit of coffee. My biggest complaint overall is that it finally died around month five. Caput. Since I had to remove it and place it on the counter surface months ago due to cabinet damage, I concluded that I really didn't need an under the counter maker. I did the research and ended up with a Cuisinart BD1200. VASTLY SUPERIOR! Better flavor, easier to clean - and no steam! I definitely won't be looking back.",
          "realLabel": 0
         },
         {
          "classifierLabel": 1,
          "confidence": 0.5,
          "inputText": "great",
          "realLabel": 1
         },
         {
          "classifierLabel": 0,
          "confidence": 0.5,
          "inputText": "This bowl was not the size advertised. I returned it because it was not big enough to make bread in.",
          "realLabel": 0
         },
         {
          "classifierLabel": 1,
          "confidence": 0.5,
          "inputText": "I have always been a fan of the waiters' corkscrew until I used the Rabbit.  Although I've never had great luck with the foil cutter, the device itself makes opening a wine bottle a breeze without any bits of cork ending up in the bottle.",
          "realLabel": 1
         },
         {
          "classifierLabel": 1,
          "confidence": 0.5,
          "inputText": "Thanks to this device i learned how important it is to monitor the temperature while grilling. It work great for several times, but i did need to change the batteries. However after that it stop working completely and I am trying another brand because it is great to be able to monitor the meat you are grilling",
          "realLabel": 0
         },
         {
          "classifierLabel": 0,
          "confidence": 0.5,
          "inputText": "Seems like a decent enough product, however it was shipped without an attachment which should have been in the box.",
          "realLabel": 0
         },
         {
          "classifierLabel": 1,
          "confidence": 0.5,
          "inputText": "After going around to Wal-mart and Target with no luck in finding snow cone flavoring in September, I ordered this product and was extremely happy with it! It taste just like at the stands and is exactly what I expected.  Very pleased and would recommend to others.",
          "realLabel": 1
         }
        ],
        [
         {
          "classifierLabel": 0,
          "confidence": 0.5,
          "inputText": "I ordered this product for thanksgiving and did not get it in time. This product came 2 days after the expected delivery date. The same company I order another hat and when I received it, it was missing pieces and had glue where the pieces were suppose to go. NOT HAPPY AT ALL.",
          "realLabel": 0
         },
         {
          "classifierLabel": 0,
          "confidence": 0.5,
          "inputText": "I give this 2 stars because the case is nice, but it took way to long to arrive, the stylus was bent,  didn't receive my cleasing cloth and I though I was getting a screen protector (which I didn't receive) unless I misunderstood.",
          "realLabel": 0
         },
         {
          "classifierLabel": 1,
          "confidence": 0.5,
          "inputText": "Let me explain why this product does not work.It is not a tight enough fit in the Senseo Pod holder.<br /><br />The hot water is under a lot of pressure when it goes through the senseo. This product allows some water to go AROUND the eco-pad and into your cup missing the coffee grinds entirely! (I support this theory with the fact that the eco pad has a puddle on top of and below it upon its removal. Proof some water doesn't even touch the grinds.<br /><br />Makes watery coffee. Perhaps finer grinds is the answer? Dunkin Donuts grinds are rather course to my knowledge... I am open to suggestions from others.  UPDATE:<br /><br />Nevermind, SENSEO DOESNT WORK WITH FINE GRINDS<br /><br />It pours in the cup a light brown tinge. Not even black light Senseo coffee should be.",
          "realLabel": 0
         },
         {
          "classifierLabel": 1,
          "confidence": 0.5,
          "inputText": "This is the first purchase I have ever made through Amazon.Com where I felt ripped off by the product.  If you are looking for something heavy duty, or something that will allow you to more easily move pots, forget it.  It looks like tiny plastic ice cube trays that have been cut & molded into an X shape.  At $1.29 I might consider it, but even that is doubtful.  Do yourself a favor and stay away!",
          "realLabel": 0
         },
         {
          "classifierLabel": 1,
          "confidence": 0.5,
          "inputText": "This is a great product, actually wish I had it sooner. I use it all the time especially when I am preparing a large amount of potatoes or other items that I slice up or have peeled the skins off of. It just makes cooking easier.",
          "realLabel": 1
         },
         {
          "classifierLabel": 0,
          "confidence": 0.5,
          "inputText": "The scale is light and won't take much space. <br />It switch between g/oz in one button. Very easy to use.",
          "realLabel": 1
         },
         {
          "classifierLabel": 1,
          "confidence": 0.5,
          "inputText": "Received this yesterday and I've already made 2 batches of Arepas.  So quick an easy.  They cook in about 10-15 minutes.  I didn't want an Arepa maker since they seem to make them thicker, this takes about 1/4 cup dough.  They are a nice size, about a large cookie.  I love that one side is flat and the other domed.  I stuffed cheese in the last batch to melt in the middle, delicious.  This is the arepa flour I use: [[ASIN:B005IGI08U Harina PAN 6 PACK White Corn Meal Flour 6 x 1 Kg Venezuela]]<br /><br />Going to try little round gluten-free goodies in this: brownies, cookies, cake. Biscuits and filled bread dough may work in this, also. I'll fill the gluten-free cookies with ice cream for ice cream sandwiches.<br /><br />The red color is a non-stick surface (I didn't know it was non-stick before purchase).  I haven't oiled it at all and the Arepas don't stick. It cooks at one temperature.  Plug it in and it turns on, unplug and it turns it off...all of these type of gadgets seem to work the same way.<br /><br />If this keep working, it's a good little investment on just the Areaps.  No standing over a hot stove during this heatwave.<br /><br />***Over a year later and it still works.  I can't use it as much since I need to watch my carbs due to health so it isn't getting used as much, now.  I still do make my gluten-free items with this, on occasion - mini brownies and cakes turn out beautifully.  Muffin mix makes portioned sized 'cookie' shapes, flat on one side, domed on the other.  Use 1/4 cup batter for each section. Perfect portion control maker. Freeze extras for a later treat.",
          "realLabel": 1
         },
         {
          "classifierLabel": 0,
          "confidence": 0.5,
          "inputText": "I like the design, but releasing the probe from it's position can be problematic.  The probe tends to stick both when attempting to release for temp test and when attempting to replace it back to it protected position.  Unfortunately, it doesn't seem to be getting smoother with usage.  Despite the mechanical flaws, it is and remains accurate.  Because the probe does work, I didn't return.  But I wouldn't purchase again.",
          "realLabel": 0
         },
         {
          "classifierLabel": 0,
          "confidence": 0.5,
          "inputText": "The pin is as expected, except that I felt it needed a bit of sanding to make it as smooth as I like, and it seemed to be unconditioned. I felt it necessary to seal it with mineral oil before I used it. If it is customary for rolling pins to be sold unconditioned, I was not aware, nor did I notice that detail in the product description when I made my purchase.",
          "realLabel": 1
         },
         {
          "classifierLabel": 1,
          "confidence": 0.5,
          "inputText": "We have used this of course to make crepes (takes some getting used to using the wooden tools- but keep at it.  Our first few crepes looked more like Swiss cheese, we've gotten way better at it now!)  We also use it to make French toast, pancakes and gas house eggs.  Next up we are going to try making tortillas.  The recipe book that comes with it has lots of great ideas.  We like it a lot because it is easy to use and doesn't take a lot of oil which makes things a lot healthier.",
          "realLabel": 1
         },
         {
          "classifierLabel": 1,
          "confidence": 0.5,
          "inputText": "After only a few uses at low and medium heat, the non-stick coating no longer works.  Everything sticks.<br />NOT recommended.",
          "realLabel": 0
         },
         {
          "classifierLabel": 0,
          "confidence": 0.5,
          "inputText": "Good product as per price and use is concern. Good to carry out and use.<br />Cost effective and user friendly. Thank you.",
          "realLabel": 1
         },
         {
          "classifierLabel": 1,
          "confidence": 0.5,
          "inputText": "Be very careful!!  It's a gorgeous item and the stand is perfect and it can hold  ice. I bought two and used once  for an all day picnic - putting lemonade in it.  And the lucite is completely ruined.  Ring upon ring and no cleaner - harsh or natural - has removed the rings.  Wish I had read the other one star review that said the same from her water with citrus! Alas I am too late to return and these are expensive !  Perhaps look at glass? Heavier but able to be cleaned ?",
          "realLabel": 0
         },
         {
          "classifierLabel": 0,
          "confidence": 0.5,
          "inputText": "Perfect replacement for ancient Krups carafe. Very happy with price and quality",
          "realLabel": 1
         },
         {
          "classifierLabel": 1,
          "confidence": 0.5,
          "inputText": "Love my cup. I now have three of them...one for my coffee, one for my lemon-cranberry mix, and the third was given to my father for his morning coffee...I couldn't be more pleased.",
          "realLabel": 1
         },
         {
          "classifierLabel": 1,
          "confidence": 0.5,
          "inputText": "Died after one year of once a week use. All my veggies were chopped and nothing was forced.  For a $400 plus blendor it is sad.",
          "realLabel": 0
         },
         {
          "classifierLabel": 0,
          "confidence": 0.5,
          "inputText": "Works nearly as advertised. The pans are capable of browning the outsides of things with a bit of practice but they're not going to turn your microwave into a normal oven.",
          "realLabel": 1
         },
         {
          "classifierLabel": 1,
          "confidence": 0.5,
          "inputText": "We use it for everything.  It is a great medium size pot that is still going strong.  Even burned it a little but it survived and came clean.",
          "realLabel": 1
         },
         {
          "classifierLabel": 1,
          "confidence": 0.5,
          "inputText": "i was pleasantly surprised when i got this to see the spices were included. while i have several spices, it came with a lot i did not have so i was very happy about that. it is a very nice looking rack and that combined with the spices being included made it a great steal for the $15 it costs. the only downside is like the previous poster commented on - the plastic cover with the holes is VERY hard to take off. i tried several times with one of the spices and gave up as it was on the verge of breaking. i do not know why they are so hard to take off - its almost like they are glued on. my purchase also came with a redemption code for 5 years of free spice refills, you only pay s&h. i looked all over the Kamenstein web site and nowhere does it mention how much s&h is and i am not signing up unless i know the price because i can go to my local grocery store and get large bottles of spices for $1 and just refill it with those.",
          "realLabel": 1
         },
         {
          "classifierLabel": 0,
          "confidence": 0.5,
          "inputText": "Looks nice, not insulated well.  Not leakproof  Skip this one.  Don't bother with this cup unless you intend to drink the contents within an hour after filling it.  I've been spoiled by better mugs, that  actually keep coffee hot for hours and hours.",
          "realLabel": 0
         },
         {
          "classifierLabel": 0,
          "confidence": 0.5,
          "inputText": "I think that they must be paying people to write good reviews about this product! So sorry I believed the reviews.  It is too small and terribly designed; my old OXO grater was much better, but I ordered this one because the OXO broke.  I waited too long to try and return it, so now I'm stuck with it.  You can only put a VERY SMALL piece of parmesan in the grater.  Maybe enough for two people's pasta or risotto.  NOt v convenient when serving any more than two.  You have to hold it up to grate the cheese, can't just grate over a plate and stop when you have enough. It doesn't stay shut, so you can't store it in fridge with cheese. (I guess why would you when the space for cheese is tiny, but that was what I did with my old one.)  And even when you put it on a plate to rest on table, the tiny piece of cheese falls out.  I rarely write reviews, but am spending the time in hopes it will save another person from buying this item!",
          "realLabel": 0
         },
         {
          "classifierLabel": 0,
          "confidence": 0.5,
          "inputText": "Very flimsy, feels like it'll break whenever you flip the waffles.  Doesn't cook evenly.  Even with adjustable heat settings, I either got a doughy mess after cooking for 15 minutes, or a nice crisp outside with a doughy center.  I could never get it to cook a waffle properly.  The recipes in the book also are missing something.  I followed them to the letter, and I got a batter that was so thick I would have been better off letting it sit and rise and making a thick hearty loaf of bread out of it.",
          "realLabel": 0
         },
         {
          "classifierLabel": 0,
          "confidence": 0.5,
          "inputText": "It is what it is.",
          "realLabel": 1
         },
         {
          "classifierLabel": 1,
          "confidence": 0.5,
          "inputText": "the engine blew up after a few seconds of use ...i would have appreciated a shout out from the manufacturer or the distributor that an additional voltage convertor device was needed to use the dehydrator if you're from a different country ...since they're shipping it all-round the world...and its not like the convertor is the cheapest thing ever either",
          "realLabel": 0
         },
         {
          "classifierLabel": 1,
          "confidence": 0.5,
          "inputText": "These are fantastic!  I even bought 2 more sets.  They are great for juice and sweet smoothies.  Both release easily from the mold after a quick moment under hot tap water.  Fun for the kids, and me too!",
          "realLabel": 1
         },
         {
          "classifierLabel": 0,
          "confidence": 0.5,
          "inputText": "We love the taste of freshly dried fruit without all the chemicals and additives that accompany most commercial dried fruits. We are expecting a huge tomato crop this summer and look forward to drying and preserving what we don't eat and can.",
          "realLabel": 1
         },
         {
          "classifierLabel": 1,
          "confidence": 0.5,
          "inputText": "Previously I was using the Emile Henry Dutch Oven for baking bread.  That worked well, but I much prefer using the Bread Cloche.  It is lighter and easier to use because the top comes off leaving just a plate for the bread.  The cloche holds in the moisture during baking and then I like to take off the top and leave the bread on the bottom plate for another 5-10 minutes to create a crispier crust.  So beautiful, so light, and so easy to use.",
          "realLabel": 1
         },
         {
          "classifierLabel": 0,
          "confidence": 0.5,
          "inputText": "1 month and 2 days after purchasing the handle to the frying pan RUSTED and broke off completely.  as I took a closer look at the sauce pans when they were in the dish washer they too were RUSTED.  Amazon provided no recourse for return since it was 2 days past the return period.  I'm forced to perform a charge back on my credit card to reclaim my losses.",
          "realLabel": 0
         },
         {
          "classifierLabel": 1,
          "confidence": 0.5,
          "inputText": "They are all completely rusted now. I can't use them anymore.",
          "realLabel": 0
         },
         {
          "classifierLabel": 1,
          "confidence": 0.5,
          "inputText": "I like the concept however it is not easy to drink from.",
          "realLabel": 0
         },
         {
          "classifierLabel": 0,
          "confidence": 0.5,
          "inputText": "Works great! It's more powerful than I expected. It can also handle a large capacity. What a great buy! Like it even better than my old one!",
          "realLabel": 1
         },
         {
          "classifierLabel": 0,
          "confidence": 0.5,
          "inputText": "A little smaller than ideal. Quality picture of the mustache though, microwave and dishwasher safe. We have enjoyed this product.",
          "realLabel": 1
         },
         {
          "classifierLabel": 0,
          "confidence": 0.5,
          "inputText": "good size, decent durability. the only thing is that I had to pay for shipping, at the post office. which sucked :(",
          "realLabel": 1
         },
         {
          "classifierLabel": 0,
          "confidence": 0.5,
          "inputText": "They still brown on the surface, just not as much.",
          "realLabel": 0
         },
         {
          "classifierLabel": 0,
          "confidence": 0.5,
          "inputText": "I use these cups everyday. They are great for anything.  The different colors are great too because you know who's is who's.",
          "realLabel": 1
         },
         {
          "classifierLabel": 1,
          "confidence": 0.5,
          "inputText": "So difficult to do - but expected",
          "realLabel": 1
         },
         {
          "classifierLabel": 1,
          "confidence": 0.5,
          "inputText": "i was looking for a dripless mason jar lid.  I was looking for a lid that could be drank off of with out a straw..",
          "realLabel": 0
         },
         {
          "classifierLabel": 0,
          "confidence": 0.5,
          "inputText": "They were all bent in one corner so they would not adhere properly. Huge disappointment. Don't waste your time or money.",
          "realLabel": 0
         },
         {
          "classifierLabel": 1,
          "confidence": 0.5,
          "inputText": "There are others out there that are much better when it comes to the bend in the holder.<br />I was not satified at all.",
          "realLabel": 0
         },
         {
          "classifierLabel": 1,
          "confidence": 0.5,
          "inputText": "I have been very pleased with the knife. It was purchased as a wedding gift and I would recommend it to anyone.",
          "realLabel": 1
         },
         {
          "classifierLabel": 1,
          "confidence": 0.5,
          "inputText": "I bought this a month ago and loved it but now it starts making weird sounds and im sucking more air than water. It wasnt the straw. I do not know what it is. A lot of my friends have this bottle so when they found out, they told me &#34;u're not the first one&#34; So i guess its normal. Luckily amazon respects me as a customer and they are sending a replacement. If amazon didnt want to replace it, I wouldnt buy it or recommend it to anyone.",
          "realLabel": 0
         },
         {
          "classifierLabel": 0,
          "confidence": 0.5,
          "inputText": "This is hands down the biggest piece of junk. We have only ever owner Cuisinart coffee makers because usually, they are the best. This is the anomaly. If don't pour the grounds in just right, turn the carafe a quarter inch in from the right, and the rest of the stars don't align, you will end up with coffee all over your counter ... Every. Single. Time. Coffee makers should be trick-free/non-finicky/sleepy-proof. Unless you love sopping up grounds when you're half asleep, this is not the coffee maker for you.",
          "realLabel": 0
         },
         {
          "classifierLabel": 1,
          "confidence": 0.5,
          "inputText": "Received as a Father's Day gift.  Unwrapped it, added some water, plugged it in, and clicked on the power button on the lower left, and .... nothing.  No lights, no heat.<br /><br />I am about to fill out the Bonavita warranty form online to get a replacement.  I am concerned about the overall quality.<br /><br />Kevin",
          "realLabel": 0
         },
         {
          "classifierLabel": 1,
          "confidence": 0.5,
          "inputText": "This press works very well. Seems very sturdy and will last a long time. Had problems with the glass models breaking<br />Went through several. Hopefully this one will last.",
          "realLabel": 1
         },
         {
          "classifierLabel": 1,
          "confidence": 0.5,
          "inputText": "It fell apart after the 2nd gentle use.",
          "realLabel": 0
         },
         {
          "classifierLabel": 0,
          "confidence": 0.5,
          "inputText": "Terrible product; very thin gauge metal, almost sharp to the touch with rough edges. Didn't work at all; threw it out!",
          "realLabel": 0
         },
         {
          "classifierLabel": 1,
          "confidence": 0.5,
          "inputText": "Very dissapointed! I bought this as a gift for my mom. It doesn't pop all the kernals. We both have older West Bend popcorn poppers that work great, but not this one.",
          "realLabel": 0
         },
         {
          "classifierLabel": 0,
          "confidence": 0.5,
          "inputText": "After 7 days, the clicker went and hasnt worked since. Worst $18 i've ever spent .",
          "realLabel": 0
         },
         {
          "classifierLabel": 1,
          "confidence": 0.5,
          "inputText": "I purchased this item recently by seeing 650 Wats, 10 button option.<br /><br />In first day when we put plug somg come from inside and it put any quantity more then 1/2 LB it won't give proper results nor it's work blends.<br /><br />We have spend lot of time to base with this Item.",
          "realLabel": 0
         },
         {
          "classifierLabel": 1,
          "confidence": 0.5,
          "inputText": "Love these. No breakage or any problems with them.",
          "realLabel": 1
         }
        ],
        [
         {
          "classifierLabel": 1,
          "confidence": 0.5,
          "inputText": "Rusted/corroded almost immediately after I got it.",
          "realLabel": 0
         },
         {
          "classifierLabel": 1,
          "confidence": 0.5,
          "inputText": "dishes are nice enough but had to order 3 times to get a set without broken pieces in the boxes. Lots of hassle......",
          "realLabel": 0
         },
         {
          "classifierLabel": 0,
          "confidence": 0.5,
          "inputText": "Hello<br /><br />This is really a rating of Amazon's website's measurement flubs....not the oven itself<br /><br />We just received this item which Amazon's website says will cook a 12\\\\\" pizza. That was a factor in our getting the oven and because of that we ordered a 12 inch pizza stone with it.  When the items arrived we tried to fit the stone in the oven.  NO GO.  The stone was WAY too big for the oven.  So, I removed the stone and got out my trusty analog wooden ruler, which I deftly inserted into the front opening of the machine and moved it back as far as it would go which was...10 inches.  The shelf is BARELY 10 inches deep front to back!!!  From side to side the shelf is BARELY 12 1/4\\\\\" wide.  So dear reader, DO NOT TAKE the measurements offered on Amazon's website at face value.<br /><br />If you want to do 12 inch pizza's in this oven you will have to use a stone/pan that is rectangular and no more than 10\\\\\" x12\\\\\"<br /><br />While I do not know the reasons for mess up by Amazon, I am going guess that *possibly* something has been lost in translation between metric measures (Breville is a Quebec company and Canada is on the Metric system)and the old-fashioned English measures used in the US.  Just a guess.<br /><br />If you're intent on baking 12 inch ROUND pizza's you will have to get the largest Breville oven to do it.  That is, if you can trust Amazon's measurements on THAT oven....????  In the meantime Amazon should stop showing 12 inch circular pans/stones as accessories for this toaster oven!",
          "realLabel": 0
         },
         {
          "classifierLabel": 0,
          "confidence": 0.5,
          "inputText": "These jars are a beautiful blue color. They have the vintage look to them.  Definitely what I was looking for. I am using them as outdoor solar lighting and they are perfect!",
          "realLabel": 1
         },
         {
          "classifierLabel": 1,
          "confidence": 0.5,
          "inputText": "Purchased this trusting the Farberware name and low price. Upon opening package found main shell of base had separated into two. It is a snap together design but you have to align gears and needle. It is tricky but I got it back together and working. It seems to operate fine but I did not check accuracy. The big disappointment was the numbers on the dial. The picture shows clear black numbers. The actual unit has pale silver numbers. This was almost unreadable. You almost need a flashlight if the room lighting is making glares and shadows as most situations do. I returned it for a slightly more expensive digital. I DO NOT recommend this scale.",
          "realLabel": 0
         },
         {
          "classifierLabel": 1,
          "confidence": 0.5,
          "inputText": "great product",
          "realLabel": 1
         },
         {
          "classifierLabel": 1,
          "confidence": 0.5,
          "inputText": "I bought this toaster because I though buying an expensive toaster would actually produce good toast! What a joke! The first toaster I bought was a Black & Decker model for about $40. It was so terrible at making toast I returned it instantly and got this KitchenAid model.<br /><br />First of all, the design is nice. It's solid and looks good. It 'works' nicely. However it does NOT toast toast evenly. It ALWAYS toasts one side more than the other no matter what slot you put it into. The different setting do make a noticeable change in toasting, but still, the uneven cooking is present. The other annoying thing about this toaster is it beeps 3 times when the toast pops up. Why 3 times? It's so loud and high pitched it actually hurts your ears! You can't disable it, or even muffle it. I returned the thing and got another to make sure I didn't get a lemon. Same thing exactly. So I returned that one too.<br /><br />Hey KitchenAid and all other toaster makers. If you can't make a toaster that ACTUALLY toasts CORRECTLY, then maybe you shouldn't be making toasters! OR, is it you fail to have any quality control on these items that are being pumped out of China? Toast doesn't take rocket science to make. a $15 toaster should make great toast. A $70 toaster should make PERFECT toast! I'm tired of buying junk products that these companies put out. My old GE toaster that was 30 years old and I think it only cost about $20, but it made PERFECT toast and it looked nice. Simple but nice. Thank goodness Amazon allows reviews so people can tell the truth about these issues.",
          "realLabel": 0
         },
         {
          "classifierLabel": 1,
          "confidence": 0.5,
          "inputText": "I've used many woks over the years, including hammered and carbon steel woks. I worked in a thai restaurant where we had access to a wok hob (those high-powered blast-furnace like gas burners for cooking with a wok.)<br /><br />Short of having the super-hot wok hob in a commercial kitchen, or cooking with cast iron over a REALLY hot barbeque, I have NEVER been able to produce good wok-hee (that just-perfect slight burn on the ingredients, that locks in juices and flavor) in my home kitchen. Mainly because home stoves just do NOT get that hot. Added to this, home cookware SUCKS compared to any decent heavy stainless or high carbon cookware.<br /><br />I had a Bene Casa wok that held up for about 4 yrs and did an ok job, although this kind of pan only really steams the food, even on HIGH heat (I have a glass stovetop, so I KNOW it gets plenty hot.) I end up with stew, not stir-fry.<br /><br />The old wok is showing it's age, food is sticking way too much. Time to get a new one.. I did a bit of searching and came across this Helen Chen pan, with a new non-stick material I had not heard of. Went and looked up the specs on \\\\\"Excalibur\\\\\" non-stick, and I liked that it's more durable than even the professional PTFE (teflon).<br /><br />The instructions do advise to condition the pan by cooking a few tablespoons of oil (wipe the oil around the entire inside surface), which I did.<br /><br />Tried it out today, and I am impressed! First time EVER I've gotten that nice wok-hee burn on my stir-fry zucchini & onions, and that was on medium heat. I had real stir-fry, and the taste proved it. Every flavor jumped out. And there was not that excessive amount of water bleeding out of the vegetables cooking too slow.<br /><br />Clean up was simple, just a hot soapy wash and done.<br /><br />My only complaint is the pan is very heavy, so no toss-stirring the pan over the stove top. It also makes it a little difficult to tilt the pan to serve up the food, but, I've dealt with heavy pans before, I'll manage. :)<br /><br />By far the best home wok I have had to date. I cook mostly on electric stovetops, and now on an electric glass stovetop.<br />This wok is a little pricey, but if it lasts me 5 yrs I will be more than happy. I had no problems with any warping. If a pan this heavy warps, that's a defect the manufacturer should replace. No mention of a warranty tho, so...<br /><br />If it doesn't last, I'll be back to update this review with a complaint cos my cheapy Bene Casa wok lasted 4+ yrs. I expect this Helen Chen wok to last much longer.<br /><br />--<br /><br />Well here I am just about 2 years later buying a new pan because the other is now worn out to the point even fatty meats stick. But, I am buying this same pan because it has been excellent, and has taken a lot of abuse (including being cleaned with baby wipes while camping for some weeks - but I know this damages the PTFE non-stick coating because of the alcohol in the wipes, so its shortened lifespan is my own fault.)ve had to date. I cook mostly on electric stovetops, and now on an electric glass stovetop.  This wok is a little pricey, but if it lasts me 5 yrs I will be more than happy. I had no problems with any warping. If a pan this heavy warps, that's a defect the manufacturer should replace. No mention of a warranty tho, so...    If it doesn't last, I'll be back to update this review with a complaint cos my cheapy Bene Casa wok lasted 4+ yrs. I expect this Helen Chen wok to last much longer.    --    Well here I am just about 2 years later buying a new pan because the other is now worn out to the point even fatty meats stick. But, I am buying this same pan because it has been excellent, and has taken a lot of abuse (including being cleaned with baby wipes while camping for some weeks - but I know this damages the PTFE non-stick coating because of the alcohol in the wipes, so its shortened lifespan is my own fault.)",
          "realLabel": 1
         },
         {
          "classifierLabel": 0,
          "confidence": 0.5,
          "inputText": "ITS A PRESENT FOR MY SON.  IT ARRIVE BROKEN TODAY BUT WHAT I SAW IN THE PACKAGE LOOKED NICE.  NOT TOO SMALL NOT TOO BIG.  I PUT IN A REQUEST FOR AN EXCHANGE, IT WAS FAST AND EASY-THROUGH AMAZON.  HOPEFULLY THE REPLACEMENT SET WILL BE OK.",
          "realLabel": 0
         },
         {
          "classifierLabel": 0,
          "confidence": 0.5,
          "inputText": "I have had this opener for 3 months. I have thrown away several cans of food because this contraption seals the can!  It presses the lip instead of cutting through it.  This results in a warping so severe that the can cannot be pried open or cut by any other means.  When it does partially cut through, it leaves very fine splinters of metal.  It is a piece of junk!",
          "realLabel": 0
         },
         {
          "classifierLabel": 0,
          "confidence": 0.5,
          "inputText": "This does the job and is pretty darn accurate! Calibrating it is easy as well! Not much else to say.",
          "realLabel": 1
         },
         {
          "classifierLabel": 1,
          "confidence": 0.5,
          "inputText": "Nice design, brews hot cup of coffee.<br />An improvement would be a larger cross-section in which top pour the water.  Mine is under kitchen cabinets and needs to be pulled out to the edge of the counter for access.",
          "realLabel": 1
         },
         {
          "classifierLabel": 1,
          "confidence": 0.5,
          "inputText": "Pros: The pan is flat, and the nonstick coating is quite slippery. The white interior is nice; it makes it much easier to see what you're doing.<br /><br />Cons: I'm using it on an induction stove, and while it does in fact get hot, it's not the whole pan. There's a disc inset into the bottom, a bit more than half the width of the pan, and it appears that the disc is the only ferrous part of the pan. There's a noticeable hot spot in the middle of the pan. This makes it, in my opinion, unsuitable for induction use.",
          "realLabel": 0
         },
         {
          "classifierLabel": 0,
          "confidence": 0.5,
          "inputText": "Birthday present for brother and he was fascinated by this device. He feels it does improve the taste of the wine",
          "realLabel": 1
         },
         {
          "classifierLabel": 0,
          "confidence": 0.5,
          "inputText": "It came dented and did not whistle. The color is off too from the picture.",
          "realLabel": 0
         },
         {
          "classifierLabel": 0,
          "confidence": 0.5,
          "inputText": "Old school popper that worked as expected right out of the box!",
          "realLabel": 1
         },
         {
          "classifierLabel": 1,
          "confidence": 0.5,
          "inputText": "This is a very cheap and flimsy product I do not recommend it, get a more expensive and better product.",
          "realLabel": 0
         },
         {
          "classifierLabel": 1,
          "confidence": 0.5,
          "inputText": "when i got the coffee maker plugged it in and it didn't work at all so i sent it back",
          "realLabel": 0
         },
         {
          "classifierLabel": 0,
          "confidence": 0.5,
          "inputText": "I don't like this stir fry pan, sticks to every type of food, would not buy this again. The glass top is also very heavy.",
          "realLabel": 0
         },
         {
          "classifierLabel": 0,
          "confidence": 0.5,
          "inputText": "I own several Lodge products as well as several cast iron skillets of unknown origin and two sets of French enamel-over-cast iron cook wear.  I've been cooking for 44 years now and, in my opinion, nothing cooks better than cast iron.  I'm using this primarily as a pancake griddle so far and love it.",
          "realLabel": 1
         },
         {
          "classifierLabel": 0,
          "confidence": 0.5,
          "inputText": "If you eat a lot of veggies  this is fun to have. You can turn many veggies into spaghetti strips and cook them up like pasta. But you have to be careful, the blades are sharp and it is possible to nick your fingers!",
          "realLabel": 1
         },
         {
          "classifierLabel": 0,
          "confidence": 0.5,
          "inputText": "This toaster oven is the result of careful engineering to make it absolutely the cheapest possible toaster oven ever built. It is ridiculously flimsy. The power cord is 24\\\\\" (2 feet long). I measured it. Unless you are positioning the oven literally right in front of an outlet you will need an extension cord. Seriously, that is how cheap this thing is: they saved money by making the power cord too short.    Also, the power cord is UNGROUNDED so the oven is actually dangerous. With no grounding it means the metal case of the oven could potentially be a shock hazard. I strongly advise against buying ungrounded appliances. If a short develops inside the unit, you could electrocute yourself by touching the outside of the oven.    I am using the oven a little but in all honesty I expect to break soon it is so cheap. Oster used to make the best toaster ovens, but obviously they are in revenue collection mode now and making a quality product is the farthest thing from their mind.",
          "realLabel": 0
         },
         {
          "classifierLabel": 1,
          "confidence": 0.5,
          "inputText": "I believe if you exhibit a photo for an item on Amazon, it should be what you are to receive. Stupidly, I purchased this item based on that. I thought I was getting one of each design as pictured. I was intensely disappointed when I opened my shipping box today. By the time I send the item back, pay postage on that and order a different item, well, as long as this one took to show up in the first place, it would not be worth the time or money. I realize what mistake I made in not paying attention to the title of Round Egg Rings but the culpability flows both ways. Change the photo please!The item itself looks to be fine but is only half what is actually advertised.",
          "realLabel": 0
         },
         {
          "classifierLabel": 0,
          "confidence": 0.5,
          "inputText": "My lunch box is great but it has already begun to tear inside which is going to lead to mildew growth. I really liked the product, but this is upsetting.",
          "realLabel": 0
         },
         {
          "classifierLabel": 0,
          "confidence": 0.5,
          "inputText": "The tritan plastic is great.  Unbreakable & stays clear.  I use both the 12 oz white wine and the 20 oz red wine glasses.  Yes there have been some comments that the stem is too wobbly.  It is just slightly flexible but works fine.<br />There are also comments about the sharp drinking edge and this is a concern but easily repairable.  Only the inside edge is a problem.  Put some masking tape around the outside to protect from scratches.  Take a 1&#34; x 2&#34; piece of 150 grit sandpaper and with your thumb sand down the inside sharp edge only.  Then take a 1&#34; x 2&#34; piece of 400 wet dry and polish the inside edge.  Makes a world of difference on sensitive lips!!  Just love these glasses now.  Just fill with your favorite wine and enjoy without the risk of broken glass around the pool, on the tile deck, etc..<br /><br />Purchased mine from &#34;Clearly Acrylic&#34; who was a wonderful, prompt supplier that responded quickly to email questions with helpful responses.  Recommend highly purchasing from them.",
          "realLabel": 1
         },
         {
          "classifierLabel": 0,
          "confidence": 0.5,
          "inputText": "I couldn't even tell any difference when using them. I  used one for bean sprouts and it didn't seem to make them last any longer.",
          "realLabel": 0
         },
         {
          "classifierLabel": 0,
          "confidence": 0.5,
          "inputText": "It is awful. It doesn't do anything close to what one sees in the picture. I hesitate to even give it to Goodwill.",
          "realLabel": 0
         },
         {
          "classifierLabel": 1,
          "confidence": 0.5,
          "inputText": "Did not keep my coffee warm more Than one hour. Might be better forcold. Went straight away and bought another. Not for me",
          "realLabel": 0
         },
         {
          "classifierLabel": 0,
          "confidence": 0.5,
          "inputText": "Great purchase, food turns out just as you want and consistently. Also itls easy to use.",
          "realLabel": 1
         },
         {
          "classifierLabel": 1,
          "confidence": 0.5,
          "inputText": "In many ways this is a great whisk.  Scrambling eggs in my non-stick saucepan is breeze and clean up is easier than with traditional balloon whisks.  But a design issue that I wouldn't expect from a manufacturer of this quality has me wishing I hadn't bought it. Basically the handle is far too heavy for the rest of the design.  When you first hold it it appears to have a good heft - but all that weight is in the handle while the balls themselves are very light. So you expend more effort than necessary to whip well.  And the darn thing will *not* stay in a bowl unless the sides of the bowl are high enough to lean the handle on - the number of times it has fallen out and dropped onto my kitchen floor has driven me mad.  I now  avoid this whisk in favor of my older whisks whenever I can. It's a real disappointment.",
          "realLabel": 0
         },
         {
          "classifierLabel": 1,
          "confidence": 0.5,
          "inputText": "The Danish have these cookies at the holidays, so this is a &#34;must have&#34; for the decorative aspect.<br />The depth of the grooves is perfect.",
          "realLabel": 1
         },
         {
          "classifierLabel": 1,
          "confidence": 0.5,
          "inputText": "These glasses are certainly big and look like something you might find in a nicer bar but if you expect them to be heavy . . . these may not be for you.  These look like they should be heavy but are not.  My 12 oz beer glasses are heavier (the type that come 4 in a box and found in every bar across America type).  I disagree with the reviews that suggest these are too big to hold comfortably- they do feel substantial in your hand but not so much that I can not hold on to it-  a child may have issues holding it but these weren't meant to be serving juice to kids.<br /><br />Another point to note, they have a minimalist look to them- since they are double rocks glasses they are short and look \\\\\"squaty\\\\\" maybe even a little out of proportion.  But if you consider these are 13.5 oz glasses that are just as tall as a regular low-ball glass they will require a larger diameter and thus be a little \\\\\"squaty\\\\\".  The pictures do not do a great job revealing this to the consumer but to those that know what they are looking at this is no surprise.  To a novice like me, it's different,  but I do not know how you would make a 13.5 oz glass look any better while still being true to what a \\\\\"double rocks\\\\\" glass is suppose to be.<br /><br />Rim and wall are thin- I compared these to my older (and cheaper) rocks glass and the zwiesel glasses are thinner.  However, these are cyrstal and not pressed glass so expectations should be different.  I've put these in the dishwasher without issue.<br /><br />The  4 star rating is specifically due to the shortcomings in the weight - however,  I am happy with the purchase and recommend them to somebody that liked this look- but if they specifically want a heavy glass and were not concerned about the actual amount/size of the glass (not really caring if they were double sized)- then I would not suggest these as a first choice there maybe others out there that fit that bill better.<br /><br />**Extended use Update***<br />I've had those glasses of overa year and lost two to the dishwasher - I suspect due to the thin glass.  While I still like them I have to take off another star due to their frailty.  We have the cheaper cut crystal glasses that you can get at and better department store that come from somewhere in Europe - not overly expensive probably $4 a glass and a lot smaller than these and they have held up for 13 years and counting with hundreds of washings in the dishwasher and by hand.  While they are an old pattern and not as cool as these- they have certainly paid for themselves in terms of cost per use.  I wouldn't buy these Schott Zweisel again and the ones I have left I'll have to hand wash to preserve their life.  I would no longer recommend them and the two stars are because they say they are dishwasher safe (hard to agree with because of the thinner glass).  Common sense really says wash by hand and you'll be ok but when compared to the ones if had at better bars, these fall short in weight and durability and when compared to my old cut style cheaper crystal that have taken a beating for 13+years these also fall short.  Therefore, now it's only 2 stars.",
          "realLabel": 0
         },
         {
          "classifierLabel": 1,
          "confidence": 0.5,
          "inputText": "The pictures are much nicer that the product.  Product very overrated.  I do not recommend this product to anyone for any reason.",
          "realLabel": 0
         },
         {
          "classifierLabel": 0,
          "confidence": 0.5,
          "inputText": "Perfect replacement since I accidentally broke the original equipment during the holidays.",
          "realLabel": 1
         },
         {
          "classifierLabel": 0,
          "confidence": 0.5,
          "inputText": "The blender glass broke at the base, the company has terrible customer service is terribly slow to respond and wants $ for the broken part, after only owning for 4 months! Read the fine print in paper work that comes with the blender and send it back and get your $ back, good luck!",
          "realLabel": 0
         },
         {
          "classifierLabel": 1,
          "confidence": 0.5,
          "inputText": "Love the color-style-handles and caviler-one of the better ones on the market",
          "realLabel": 1
         },
         {
          "classifierLabel": 1,
          "confidence": 0.5,
          "inputText": "I love being able to use the reusable cups for ground coffee. I just bought some roasted beans from Costa Rica and Love having this option to enjoy my coffee.",
          "realLabel": 1
         },
         {
          "classifierLabel": 1,
          "confidence": 0.5,
          "inputText": "After using this item for about three weeks I have to ask the question as to why I would bother with this when I can do exactly the same thing in my skillet, or sauce pan? I bought this on impulse but it doesn't do anything you can't do any other way. Sometimes it actually takes longer to cook something in the Microhearth than it does on the stove.  And no it does not brown meat.  I'm sure that what you see on TV is staged because the grill marks on the meat you see don't line up with the much narrower ridges on the pan itself.",
          "realLabel": 0
         },
         {
          "classifierLabel": 0,
          "confidence": 0.5,
          "inputText": "The spice rack is nice looking (except for a small chip on the side) and was easy to hang, but unfortunately the space between the shelves is quite small and I can only fit small to medium bottles in it.  I still have no place to put larger bottles of spices!",
          "realLabel": 0
         },
         {
          "classifierLabel": 0,
          "confidence": 0.5,
          "inputText": "Not made to fit in the grand daddy deep fryer.",
          "realLabel": 0
         },
         {
          "classifierLabel": 0,
          "confidence": 0.5,
          "inputText": "I don't see anywhere in reviews that others are dissatisfied with this product, however we most certainly are!  Our coffee at best stays warm for an hour or so. Could this be a mfg defect?  We own four Nissan insulated travel mugs and they are wonderful and have served us well for years. Sorry Thermos you will be getting a letter from me!",
          "realLabel": 0
         },
         {
          "classifierLabel": 0,
          "confidence": 0.5,
          "inputText": "I bought this item because I love the red color, but within a month or two of using it, the handle broke away from the paddle. I glued it back together with superglue and it lasted a bit longer, but ultimately it is just not good quality.  I would not recommend purchasing this item.  Go for something a bit more sturdy.",
          "realLabel": 0
         },
         {
          "classifierLabel": 0,
          "confidence": 0.5,
          "inputText": "Arrived with one of the latches broken.  Other than that, it's just what I wanted.",
          "realLabel": 0
         },
         {
          "classifierLabel": 0,
          "confidence": 0.5,
          "inputText": "Why didn't I look at the reviews first? This toaster is THE worst toaster I've ever had. Often it toasts ONE side of each slice of bread. Also, if you toast a second set of toast shortly after the first set it ALWAYS burns it.  It might as well not have a heat setting dial at all, because setting the dial makes absolutely no difference. J-U-N-K. Seriously, how hard is it to get a toaster right? Where is the quality control?",
          "realLabel": 0
         },
         {
          "classifierLabel": 1,
          "confidence": 0.5,
          "inputText": "RECEIVED THE KEURIG -- WAS NOT PACKAGED VERY WELL .. NO MANUAL--OR BOOKLET .. AND DID NOT MAKE COFFEE -- SAID IT WAS BREWING -- BUT NO WATER CAME OUT -- TRIED EVERYTHING TO NO AVAIL... SENT IT BACK...",
          "realLabel": 0
         },
         {
          "classifierLabel": 0,
          "confidence": 0.5,
          "inputText": "Used every day of college, only critique is that you have to hold it or else coffee comes out the drinking hole",
          "realLabel": 1
         },
         {
          "classifierLabel": 0,
          "confidence": 0.5,
          "inputText": "couldnot use in my kitchenaid",
          "realLabel": 1
         },
         {
          "classifierLabel": 1,
          "confidence": 0.5,
          "inputText": "Just used these for the first time tonight and they work really well. The only thing I would say to watch is the little handles as they can get hot (so don't go grabbing them).",
          "realLabel": 1
         },
         {
          "classifierLabel": 0,
          "confidence": 0.5,
          "inputText": "The only thing I've used this stone for is making pizza, which is does beautifully on the BBQ grill.  Place the stone in the grill, heat on high to 450-500 deg slide the pizza onto the hot stone (via a paddle with corn meal) and close the top.  The bottom of the pizza will be nice and crisp after about 10 minutes!",
          "realLabel": 1
         },
         {
          "classifierLabel": 0,
          "confidence": 0.5,
          "inputText": "I purchased this machine to replace the older model that had started leaking water and coffee from the base, only to find 3 months later this machine is also leaking in the same way!",
          "realLabel": 0
         }
        ],
        [
         {
          "classifierLabel": 1,
          "confidence": 0.5,
          "inputText": "I followed the instructions and tried to make rice. When I opened the container after microwaving and letting it stand I had a container with partially uncooked rice and water staring me in the face. I promptly threw the container in the trash with the mess inside and got out my trusty old standard rice cooker and started over. It was also much smaller than I pictured it would be. I doubt that it would hold 8 cups of rice if it worked at all.",
          "realLabel": 0
         },
         {
          "classifierLabel": 0,
          "confidence": 0.5,
          "inputText": "Get one for 50 cents or less at Military Surplus Store.<br />Make sure it's made in USA and some are very sharp.",
          "realLabel": 0
         },
         {
          "classifierLabel": 1,
          "confidence": 0.5,
          "inputText": "Doesn't take long to heat, and the water gets very hot. It looks just like pictured.",
          "realLabel": 1
         },
         {
          "classifierLabel": 0,
          "confidence": 0.5,
          "inputText": "A+ transaction, fast and well packed shipping, condition as described. A must accessory for your mixer. The two sided spatula edging really helps mix cake and other thin batters but will not work well w/ thick cookie dough. The whip or the hook that comes w/ the mixer is best for that.",
          "realLabel": 1
         },
         {
          "classifierLabel": 1,
          "confidence": 0.5,
          "inputText": "junk",
          "realLabel": 0
         },
         {
          "classifierLabel": 1,
          "confidence": 0.5,
          "inputText": "I have had this cup for about a month now... Excellent..  Does not leak ... holds a nice amount of coffee and throw it in the dishwasher...  Easy and terrific - fits beautifully in my Audi's car cup holder and slides out easily for &#34;Road Warrior Coffee Drinking&#34;.<br /><br />Tough to go wrong with this one...",
          "realLabel": 1
         },
         {
          "classifierLabel": 0,
          "confidence": 0.5,
          "inputText": "I have use these racks for cooling cookies and cakes, as well as roasting chicken and bacon.  They are versatile, strong,  and clean up easily.",
          "realLabel": 1
         },
         {
          "classifierLabel": 0,
          "confidence": 0.5,
          "inputText": "Received quickly price is good",
          "realLabel": 1
         },
         {
          "classifierLabel": 0,
          "confidence": 0.5,
          "inputText": "I could not move the portafilter. The return was easy. Wish it had been easier.  And I am not weak.",
          "realLabel": 0
         },
         {
          "classifierLabel": 0,
          "confidence": 0.5,
          "inputText": "LOVELY IMAGE LAB",
          "realLabel": 1
         },
         {
          "classifierLabel": 1,
          "confidence": 0.5,
          "inputText": "Lid does not have a tight fit.",
          "realLabel": 0
         },
         {
          "classifierLabel": 0,
          "confidence": 0.5,
          "inputText": "The best can opener I've had in years. Yea for made in the U S A . Good job folks.",
          "realLabel": 1
         },
         {
          "classifierLabel": 1,
          "confidence": 0.5,
          "inputText": "Traditional paring blade, handle fits my hand, matches knives in my set and fits in my knife block/holder.  Delivery was quick and free with Amazon Prime.",
          "realLabel": 1
         },
         {
          "classifierLabel": 1,
          "confidence": 0.5,
          "inputText": "Pulled this out to make my first tortillas... not bad until the third press and I could see whatever this is plated or painted with chipping off into my dough... I researched so many and the reviews for this one looked wonderful... not sure what product they received but I can't imagine they like metal shavings or whatever it is peeling off in their food... had to use parchment paper or it stuck really bad... pressed like crazy and the tortilla still wasn't any flatter than using a board... I'd love to return it but I think it would cost me more than it's worth... bummer!",
          "realLabel": 0
         },
         {
          "classifierLabel": 1,
          "confidence": 0.5,
          "inputText": "Its dimensions are waaaay too small.  It will only work if your using it for kids under 5 or if you are sitting or squatting. The plastic is very cheap and reflective and there are tons of visible folds in it when it comes. Just not worth the money.",
          "realLabel": 0
         },
         {
          "classifierLabel": 1,
          "confidence": 0.5,
          "inputText": "Just received oven.  Opened box.  Had to re- attach both legs.  Put on counter and opened door.  Oven tipped forward.  Pizza pan that was supposed to fit, doesn't.  Now can't get the d--- thing back in the box.  Last Euro-Pro for me.  Walter Coutts",
          "realLabel": 0
         },
         {
          "classifierLabel": 0,
          "confidence": 0.5,
          "inputText": "The price was right and the quality of the plastic, however the only issue is that they are pretty DUSTY in the box and I used these for graduation.  I ended up having to DUST these before putting them out for the lunch.  I would not recommend these based on that feedback.",
          "realLabel": 0
         },
         {
          "classifierLabel": 1,
          "confidence": 0.5,
          "inputText": "I am a single man living alone and I don't feel comfortable with fancy things  {glasses}  and also don't Drink in a bar or at home but always felt good about drinking beer in a bar glass. when I drank.",
          "realLabel": 1
         },
         {
          "classifierLabel": 1,
          "confidence": 0.5,
          "inputText": "I never bothered with cheese cloth before and need to get a bigger supply.  I will need it to strain some frozen black raspberries I have but right now I am making this most amazing coffee ice cream in my new Cuisinart ice cream freezer.  I do not drink coffee so use Starbuck's roasted beans and keep them in the freezer.  The smell is heavenly, don't use some exotic flavors, just plain.  When I make the ice cream, I smash them with a hammer, about 4 tablespoons to 6 cups milk/cream.  Then I infuse them in the hot milk for an hour (before I temper it with eggs).  And then what?  I have to strain all the ground up coffee out.  3 or 4 thicknesses cut in about a 5 inch square and fitted into a regular medium strainer with a handle does the trick.",
          "realLabel": 1
         },
         {
          "classifierLabel": 0,
          "confidence": 0.5,
          "inputText": "I ordered a pink mini rosebush to be delivered to my mother on Valentine's Day. I told her a surprise was on the way and to be on the lookout for it. She called me at the end of the day and said there'd been no delivery. I called Teleflora and asked what happened. They said that they did not have access to delivery information and would not tell me which florist had been used for the order. They also said deliveries were backed up for Valentine's Day and that they would try to deliver again tomorrow. I agreed to having it delivered the following day even though that was no longer Valentine's Day. At the end of the following day my mother called me again, still no delivery. Now that's inexcusable! You're a floral company right? That delivers flowers? So, how come no flowers were delivered? I called Teleflora, once again, same song and dance: We do not have and cannot give you, the customer the delivery and florist information. So, I canceled the order and had a refund issued to my credit card. I've been told that my refund should appear in the next few days. I'll be checking, I don't trust this company at all and will never use them again. I cannot in good conscience recommend a floral delivery company that doesn't do floral delivery. Use another florist, Teleflora doesn't deliver.",
          "realLabel": 0
         },
         {
          "classifierLabel": 1,
          "confidence": 0.5,
          "inputText": "Bought for our vacation home, they are perfect.  Great sizes, very sturdy, great colors too.  Ended up buying a second set for our main home.",
          "realLabel": 1
         },
         {
          "classifierLabel": 0,
          "confidence": 0.5,
          "inputText": "Not happy it was made in China but it is still very nice and will be put to good use.",
          "realLabel": 1
         },
         {
          "classifierLabel": 0,
          "confidence": 0.5,
          "inputText": "Great Bowl, heats well and the price is a no brainer. My order came on time if not a day earlier. The color that came is more of a reddish orange. Fits my KM and Kaloud Lotus perfectly. Stands up to long sessions of Tangiers.",
          "realLabel": 1
         },
         {
          "classifierLabel": 1,
          "confidence": 0.5,
          "inputText": "didnt pop half the popcorn and burned the rest! waste of money I wish i had read the other reviews before buying it!",
          "realLabel": 0
         },
         {
          "classifierLabel": 0,
          "confidence": 0.5,
          "inputText": "I don't review many things, but this one is a great product.  My favorite thing is that it holds my Keurig and fits nicely under my cabinets, but slides out easily when the wheels are engaged for use.  Perfect and wonderful idea!  Highly recommend.",
          "realLabel": 1
         },
         {
          "classifierLabel": 1,
          "confidence": 0.5,
          "inputText": "My son had an informal potluck wedding. Being the compulsive mom that I am, I couldn't just make homemade rolls, I had to make a dozen different kinds with different herbs & fillings. These were perfect for labeling them so none of his guests were surprised by a kind they didn't care for.",
          "realLabel": 1
         },
         {
          "classifierLabel": 1,
          "confidence": 0.5,
          "inputText": "It leaks",
          "realLabel": 0
         },
         {
          "classifierLabel": 1,
          "confidence": 0.5,
          "inputText": "handle is too heavy, pro bartender speaking.",
          "realLabel": 0
         },
         {
          "classifierLabel": 1,
          "confidence": 0.5,
          "inputText": "Dire unless you like really bad coffee.  I've tried a bunch of times to get this to work but it does simply not brew a decent cup of coffee even with Danesi espresso.  What a waste of good coffee!",
          "realLabel": 0
         },
         {
          "classifierLabel": 1,
          "confidence": 0.5,
          "inputText": "I'v had this coffee maker servral months now. It makes exelent coffee if you buy good beans. I like the removable water tank.<br />Some have complained - trouble with water tank lid. I've not had this problem. I like the removable water tank.<br />Some have complained - trouble with coffee drawer. I've not had this problem.<br />Some have complained - not hot enough. I've not had this problem, even two hours later.<br />Some have complained - leaking carafe. I've not nad this problem.<br />Some have complained - slow pouring. It is a little slower than an open-top carafe, but, this is a thermal carafe, and I can fill my 20oz mug in about 5 seconds. So, no problem.<br />I do have one complaint: (thus only 4 stars) You can't open the carafe lid to clean the inside. This seems to be true of all the coffee makers with thermal, brew through/pour through, carafes. I'm sure the self cleaning feature does an adequate job on the internal parts of the coffee machine. But, I don't believe that does a proper cleaning job on the internals of the carafe lid. I don't understand why they can't design a thermal, brew through/pour through, carafe lid that can be opened, so you can give it a good cleaning. Mr. Coffee, are you listening.",
          "realLabel": 1
         },
         {
          "classifierLabel": 1,
          "confidence": 0.5,
          "inputText": "I love it! It is smaller than most toaster ovens, attractive, easy to use, efficient crumb tray and easily removed for cleaning.  It has a sense of humor too, with an &#34;a bit more&#34; button to press to toast for 30 seconds more!",
          "realLabel": 1
         },
         {
          "classifierLabel": 1,
          "confidence": 0.5,
          "inputText": "Too small and doesn't grind worth a s***!!!!",
          "realLabel": 0
         },
         {
          "classifierLabel": 0,
          "confidence": 0.5,
          "inputText": "Fast shipping, great price and excellent follow up by the seller.  I was made to feel like my purchase was a personal experience which is rare in today's online ordering world is rare.  Even for such a small item as this.  And the cubes are perfect.",
          "realLabel": 1
         },
         {
          "classifierLabel": 1,
          "confidence": 0.5,
          "inputText": "I LOVE my premium Microplane zester and will never be without it!<br /><br />It zests, exactly as it should. The grip tips work amazingly and the handle is easy to hold.<br /><br />As a bonus, its attractive and fits my kitchen perfectly. If I ever need to, I'll purchase this product again. :)",
          "realLabel": 1
         },
         {
          "classifierLabel": 1,
          "confidence": 0.5,
          "inputText": "too hard to operate",
          "realLabel": 0
         },
         {
          "classifierLabel": 0,
          "confidence": 0.5,
          "inputText": "As others have noted - you will experience unacceptable difficulties in three areas:    1) Unimaginably slow feeding/extruding of the raw sausage mixture  2) Excessive amounts of air entering grinder chamber and eventually blowing up your casings like a balloon  3) The plunger end of the handle tool is too narrow and much of the meat mixture just oozes out of the chamber instead of getting rammed down.    Note that these are issues with the design of the grinder assembly in terms of its ability to handle sausage meat.  The sausage feed tubes are just ordinary, plastic, tapered tubes.    Look elsewhere to stuff sausage - I'm going to purchase a standalone electric stuffer.",
          "realLabel": 0
         },
         {
          "classifierLabel": 0,
          "confidence": 0.5,
          "inputText": "It's a nice solid toaster.  Toasts evenly and consistently after two years of twice a week use.  Highly recommend!  Plus it looks good.",
          "realLabel": 1
         },
         {
          "classifierLabel": 1,
          "confidence": 0.5,
          "inputText": "This took a little bit of trial and error to get right.<br /><br />Here's what gave us the prettiest tastiest owls:<br />1) Apply grapeseed oil / canola oil (or any high flash-point oil) to the silicone mould and the pan.<br />2) Crack two eggs into bowl, separating each yolk into a separate shot glass/cup (add a few drops of oil may prevent the yolks from breaking)<br />3) Season the bowl of egg whites to your liking.<br />4) Heat the pan with a pan lid over the pan (medium heat) for three minutes with the silicone mould in the pan.<br />5) Remove the lid, press the owl's nose with one finger while you slowly pour the eggs into the mould evenly avoiding the eyes.<br />6) Wait 30 seconds and then slowly drop the yolks into each eye.<br />7) Wait another minute and then wiggle the mould free and then remove owl when it's done to your liking.<br /><br />Here's a handy tool for placing the owl's yolk eyes in place easily from the cup, which is pretty fun to use:<br />http://www.amazon.com/gp/product/B00H3U3ETY/ref=cm_cr_ryp_prd_ttl_sol_20",
          "realLabel": 1
         },
         {
          "classifierLabel": 1,
          "confidence": 0.5,
          "inputText": "Love that you can clean the grates in the dishwasher",
          "realLabel": 1
         },
         {
          "classifierLabel": 0,
          "confidence": 0.5,
          "inputText": "I wrote the Swiss Diamond company and asked for an explanation of what the nano-composite material was made of.<br /><br />After a week or so, I received a polite reply from Allan Wolk, an employee in the U.S. His email informed me that, \\\\\"Our patented nonstick surface uses a nano-composite of real diamond crystals and PTFE; it is applied using a computer controlled plasma gun at very high temperatures.\\\\\"<br /><br />Naturally, my attention was immediately drawn to the PTFE. The acronym sounded familiar. What was PTFE?<br /><br />A quick search of Wikipedia provided the answer: [...]<br /><br />As Wikipedia explains:<br /><br />Polytetrafluoroethylene (PTFE) is a fluoropolymer discovered by Roy J. Plunkett (1910-1994) of DuPont in 1938. It was introduced as a commercial product in 1946 and is generally known to the public by DuPont's brand name TeflonÂ®.<br /><br />Huh? Teflon? Wait a minute. Didn't the Swiss Diamond website just claim that the product contained no Teflon?<br /><br />If you look back at the Swiss Diamond website screen capture, the careful wording of their answer now becomes clear. It states, \\\\\"The Swiss Diamond coating does not contain any Teflon taking into consideration that \\\\\"Teflon\\\\\" is a trade mark, made and owned by DUPONT.\\\\\"<br /><br />So the pans don't contain Teflon, they just contain the chemical called Teflon. It's like saying a nuclear warhead doesn't contain any plutonium, it only contains nuclear fissionable material.<br /><br />For the manufacturer to insist the Swiss Diamond pans contain no Teflon whatsoever when it is made primarily from polytetrafluoroethylene, the chemical widely known as Teflon, is extremely deceptive. In fact, the intent of the Swiss Diamond company seems to be to deceive consumers by omission of the facts. The FAQ document on the Swiss Diamond website, for example, does not bother to say something like, \\\\\"But our pans do contain PTFE, the chemical known as Teflon.\\\\\" It simply insists they contain no Teflon and moves on to the next question.<br /><br />It seems that Swiss Diamond goes out of its way to give the impression that this product is free of Teflon chemicals and is surfaced primarily with diamonds. That's the impression I got, anyway, and I read the promotional materials several times before purchasing the pan.<br /><br />Consumers have been hoodwinked yet again, in the name of corporate interests ,and BIG money, for the filthy rich executives who produce obscenely overpriced products and sell them to trusting consumers.y to give the impression that this product is free of Teflon chemicals and is surfaced primarily with diamonds. That's the impression I got, anyway, and I read the promotional materials several times before purchasing the pan.    Consumers have been hoodwinked yet again, in the name of corporate interests ,and BIG money, for the filthy rich executives who produce obscenely overpriced products and sell them to trusting consumers.",
          "realLabel": 0
         },
         {
          "classifierLabel": 1,
          "confidence": 0.5,
          "inputText": "Product easily stained. not great quality, very difficult to clean",
          "realLabel": 0
         },
         {
          "classifierLabel": 0,
          "confidence": 0.5,
          "inputText": "After I thoroughly read and followed the use & care instructions, this teapot did not function as the manufacturer's instructions are documented.  The whistle feature does not function as described and often times when the steam is flowing from the pot, the whistle does not even occur.  Although the flame did not reach outside the edge of the teapot, there is bad discoloration.  Adding water to the teapot is cumbersome, the handle is located too low to the opening.<br /><br />This teapot is costly and at the very least, expect the product to perform as represented by the manufacturer.",
          "realLabel": 0
         },
         {
          "classifierLabel": 0,
          "confidence": 0.5,
          "inputText": "A cute yet functional addition to any kitchen needing a touch of whimsy. Simple to use, clean and no storage considerations.",
          "realLabel": 1
         },
         {
          "classifierLabel": 1,
          "confidence": 0.5,
          "inputText": "Works great! I was skeptical when I first opened it because it was plastic and very light-- It seemed cheap. I couldn't be more wrong. The light weight makes it easy to put up and take out. It's also very easy clean up. I've only made zucchini noodles so far, but I plan on making curly fry sweet potatoes tonight!",
          "realLabel": 1
         },
         {
          "classifierLabel": 0,
          "confidence": 0.5,
          "inputText": "The material is very stiff, and it's very difficult (basically impossible) to get all the air out of the bag. This means that the bag tends to float above the hot water. Sub-optimal.<br /><br />Not poisoning yourself is a nice idea in theory, but these bags are a real pain to use.",
          "realLabel": 0
         },
         {
          "classifierLabel": 1,
          "confidence": 0.5,
          "inputText": "I use this ladle for hot packing about 10Gal of tomato sauce and it really felt like the right tool for the job.  Long reach and nice hook at the end to keep it from slipping in, can be used to stir the sauce and it looks smaller than it is, it takes two scoops to fill a pint, maybe 4 for a Qt.<br />i'm done using the soup ladle from ikea!<br />Smooth is fast... and the price is right!",
          "realLabel": 1
         },
         {
          "classifierLabel": 0,
          "confidence": 0.5,
          "inputText": "A very good price for a well made product. Just as it was shown and described on the Amazon site.",
          "realLabel": 1
         },
         {
          "classifierLabel": 1,
          "confidence": 0.5,
          "inputText": "Love the Epicurean products and this spoon is no exception.  I use it often and daily and you can put it in the dish washer if you wish, it is so easy to clean that I seldom do.",
          "realLabel": 1
         },
         {
          "classifierLabel": 1,
          "confidence": 0.5,
          "inputText": "I thought this slicer would be a really wise purchase...sturdy & would brighten my kitchen.  Wrong, wrong, wrong...it lasted all of two weeks, then as others have experienced, the wires all popped!  Wished I'd checked Amazon's feedback before my purchase.  Mine was an in-store purchase and expensive (for an egg-slicer).  Of course, I'd already thrown away my cash receipt (ah,well).  Then bought a Farberward slicer...very nice looking (black) sturdy (thus far) & I really like it...for less than a third the price of the Kitchen Aid.<br /><br />Love the feedback on Amazon!  Helps us all be a whole lot more satisfied consumers when we can draw on others positive and negative experiences with their shopping choices!!",
          "realLabel": 0
         },
         {
          "classifierLabel": 1,
          "confidence": 0.5,
          "inputText": "It works okay, but the &#34;works with pods&#34; statement is a little misleading. It absolutely does not work with K-cups, you have to dump the coffee out of the cup and into the included mesh basket.  It works a little better with the pods that have a coffee-filter-like bottom (e.g. the San Francisco Bay OneCup pods) but even then you need to either remove the lid of the pod or puncture it a few times.  All-in-all, not a terrible purchase for the price, just a tad misleading with it's &#34;works with pods&#34; statement.",
          "realLabel": 0
         }
        ]
       ],
       "text/plain": [
        "<IPython.core.display.JSON object>"
       ]
      },
      "execution_count": 3,
      "metadata": {
       "application/json": {
        "expanded": false,
        "root": "root"
       }
      },
      "output_type": "execute_result"
     }
    ],
    "source": [
     "y_pred_test = classifier.predict(x_test_features)\n",
     "y_proba = classifier.predict_proba(x_test_features)\n",
     "\n",
     "from sklearn.metrics import f1_score\n",
     "from IPython.display import JSON\n",
     "output = []\n",
     "x_test_list = x_test.to_list()\n",
     "y_test_list = y_test.to_list()\n",
     "experiment_size = y_pred_test.size // 5\n",
     "trial = 0\n",
     "experiment = []\n",
     "y_true = []\n",
     "y_pred = []\n",
     "f1_scores = []\n",
     "for i in range(y_pred_test.size):\n",
     "    if trial == experiment_size and i + experiment_size <= y_pred_test.size:\n",
     "        output.append(experiment)\n",
     "        experiment = []\n",
     "        trial = 0\n",
     "        f1_scores.append(f1_score(y_true, y_pred))\n",
     "        y_true = []\n",
     "        y_pred = []\n",
     "    y_true.append(y_test_list[i])\n",
     "    y_pred.append(y_pred_test[i])\n",
     "    experiment.append({\n",
     "        \"inputText\": x_test_list[i],\n",
     "        \"realLabel\": y_test_list[i],\n",
     "        \"classifierLabel\": y_pred_test[i],\n",
     "        \"confidence\": max(y_proba[i])\n",
     "    })\n",
     "    trial += 1\n",
     "\n",
     "JSON(output)"
    ]
   }
  ],
  "metadata": {
   "kernelspec": {
    "display_name": "Python 3 (ipykernel)",
    "language": "python",
    "name": "python3"
   },
   "language_info": {
    "codemirror_mode": {
     "name": "ipython",
     "version": 3
    },
    "file_extension": ".py",
    "mimetype": "text/x-python",
    "name": "python",
    "nbconvert_exporter": "python",
    "pygments_lexer": "ipython3",
    "version": "3.10.4"
   }
  },
  "nbformat": 4,
  "nbformat_minor": 5
 }
 