{
 "cells": [
  {
   "attachments": {},
   "cell_type": "markdown",
   "metadata": {},
   "source": [
    "# Setup\n",
    "### Runs all initialization"
   ]
  },
  {
   "cell_type": "code",
   "execution_count": 1,
   "metadata": {
    "contenteditable": false,
    "deletable": false,
    "editable": false,
    "tags": [
     "highlight"
    ]
   },
   "source": [
    "### This cell is uneditable\n",
    "# training data:\n",
    "filename = \"cafe/reviews.csv\""
   ],
   "outputs": []
  },
  {
   "cell_type": "code",
   "execution_count": 1,
   "metadata": {
    "gai_cell_type": "INPUT",
    "contenteditable": false,
    "deletable": false,
    "editable": false,
    "tags": [
     "highlight"
    ]
   },
   "outputs": [],
   "source": [
    "### This cell is uneditable\n",
    "# example input for simulator runs:\n",
    "inputs = [\n",
    "    # input for each run is a list of reviews with a review and a rating\n",
    "    [{\"review\": \"good\", \"rating\": 1 }, {\"review\": \"bad\", \"rating\": 0}],     # run 1\n",
    "    [{\"review\": \"okay\", \"rating\": 1 }, {\"review\": \"terrible\", \"rating\": 0}] # run 2\n",
    "]"
   ]
  },
  {
   "attachments": {},
   "cell_type": "markdown",
   "metadata": {},
   "source": [
    "## Evaluation"
   ]
  },
  {
   "cell_type": "code",
   "execution_count": 1,
   "metadata": {
    "gai_cell_type": "EVALUATION",
    "deletable": false
   },
   "outputs": [],
   "source": [
    "# Mock classifier response function\n",
    "import random\n",
    "\n",
    "# Your classifier code goes here:\n",
    "def classifier_output():\n",
    "    output = []\n",
    "    for review in run:\n",
    "        output.append({\n",
    "            'inputText': review['review'],\n",
    "            'realLabel': review['rating'],\n",
    "            'classifierLabel': random.randint(0,1),\n",
    "            'confidence': random.uniform(0,1)\n",
    "        })\n",
    "    return output"
   ]
  },
  {
   "cell_type": "code",
   "execution_count": 1,
   "metadata": {
    "contenteditable": false,
    "deletable": false,
    "editable": false,
    "tags": [
     "highlight"
    ]
   },
   "source": [
    "import json\n",
    "\n",
    "outputs = []\n",
    "for run in inputs:\n",
    "    outputs.append(classifier_output(run))\n",
    "\n",
    "print(json.dumps(outputs))"
   ],
   "outputs": []
  }
 ],
 "metadata": {
  "kernelspec": {
   "display_name": "Python 3 (ipykernel)",
   "language": "python",
   "name": "python3"
  },
  "language_info": {
   "codemirror_mode": {
    "name": "ipython",
    "version": 3
   },
   "file_extension": ".py",
   "mimetype": "text/x-python",
   "name": "python",
   "nbconvert_exporter": "python",
   "pygments_lexer": "ipython3",
   "version": "3.10.7"
  },
  "vscode": {
   "interpreter": {
    "hash": "4b655b960f58f067faa17677b2a61dad4dd7349f9b1d9b48ec4c1e58710c42f6"
   }
  }
 },
 "nbformat": 4,
 "nbformat_minor": 4
}